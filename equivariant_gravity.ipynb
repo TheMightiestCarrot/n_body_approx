{
 "cells": [
  {
   "cell_type": "code",
   "execution_count": 0,
   "outputs": [],
   "source": [
    "from e3nn import o3\n",
    "\n",
    "irreps = o3.Irreps(\"3x0e + 2x1o\")\n",
    "import torch\n",
    "alpha, beta, gama = torch.rand(3)"
   ],
   "metadata": {
    "collapsed": false
   },
   "id": "ac90051354d4fc65"
  },
  {
   "cell_type": "code",
   "execution_count": 4,
   "outputs": [
    {
     "data": {
      "text/plain": "tensor([[ 1.0000,  0.0000,  0.0000,  0.0000,  0.0000,  0.0000,  0.0000,  0.0000,\n          0.0000],\n        [ 0.0000,  1.0000,  0.0000,  0.0000,  0.0000,  0.0000,  0.0000,  0.0000,\n          0.0000],\n        [ 0.0000,  0.0000,  1.0000,  0.0000,  0.0000,  0.0000,  0.0000,  0.0000,\n          0.0000],\n        [ 0.0000,  0.0000,  0.0000,  0.4124,  0.0723,  0.9081,  0.0000,  0.0000,\n          0.0000],\n        [ 0.0000,  0.0000,  0.0000,  0.1184,  0.9841, -0.1321,  0.0000,  0.0000,\n          0.0000],\n        [ 0.0000,  0.0000,  0.0000, -0.9033,  0.1620,  0.3973,  0.0000,  0.0000,\n          0.0000],\n        [ 0.0000,  0.0000,  0.0000,  0.0000,  0.0000,  0.0000,  0.4124,  0.0723,\n          0.9081],\n        [ 0.0000,  0.0000,  0.0000,  0.0000,  0.0000,  0.0000,  0.1184,  0.9841,\n         -0.1321],\n        [ 0.0000,  0.0000,  0.0000,  0.0000,  0.0000,  0.0000, -0.9033,  0.1620,\n          0.3973]])"
     },
     "execution_count": 4,
     "metadata": {},
     "output_type": "execute_result"
    }
   ],
   "source": [
    "irreps.D_from_angles(alpha, beta, gama)"
   ],
   "metadata": {
    "collapsed": false,
    "ExecuteTime": {
     "end_time": "2023-12-17T13:37:52.043344621Z",
     "start_time": "2023-12-17T13:37:52.030599879Z"
    }
   },
   "id": "95ab4e4074494f93"
  },
  {
   "cell_type": "code",
   "execution_count": 8,
   "outputs": [
    {
     "data": {
      "text/plain": "tensor([18.4752, -2.1213,  4.2426, -2.1213, 12.7279,  9.1924, -0.8165, 19.0919,\n         9.8995])"
     },
     "execution_count": 8,
     "metadata": {},
     "output_type": "execute_result"
    }
   ],
   "source": [
    "from e3nn import o3 #rotation and parity\n",
    "import torch\n",
    "\n",
    "#vector *vector\n",
    "\n",
    "tp = o3.FullTensorProduct(\"1o\", \"1o\")\n",
    "tp(torch.tensor([1.0, 2.0, 3.0]), torch.tensor([4.0, 5.0, 6.0]))"
   ],
   "metadata": {
    "collapsed": false,
    "ExecuteTime": {
     "end_time": "2023-12-17T15:40:44.046208057Z",
     "start_time": "2023-12-17T15:40:43.932462907Z"
    }
   },
   "id": "3dd88b9ea5ef9632"
  },
  {
   "cell_type": "markdown",
   "source": [],
   "metadata": {
    "collapsed": false
   },
   "id": "2ad7365f718bcf01"
  },
  {
   "cell_type": "code",
   "execution_count": 2,
   "id": "initial_id",
   "metadata": {
    "collapsed": true,
    "ExecuteTime": {
     "end_time": "2023-12-12T18:47:04.139802827Z",
     "start_time": "2023-12-12T18:47:03.973671721Z"
    }
   },
   "outputs": [
    {
     "name": "stderr",
     "output_type": "stream",
     "text": [
      "/home/mightycarrot/anaconda3/envs/n_body_approx/lib/python3.8/site-packages/torch/jit/_check.py:178: UserWarning: The TorchScript type system doesn't support instance-level annotations on empty non-base types in `__init__`. Instead, either 1) use a type annotation in the class body, or 2) wrap the type in `torch.jit.Attribute`.\n",
      "  warnings.warn(\n"
     ]
    }
   ],
   "source": [
    "import torch\n",
    "from e3nn import o3\n",
    "from e3nn.nn import FullyConnectedNet, Gate\n",
    "from e3nn.o3 import Irreps\n",
    "\n",
    "class NBodyModel(torch.nn.Module):\n",
    "    def __init__(self, n_bodies):\n",
    "        super().__init__()\n",
    "\n",
    "        irreps_in = Irreps(f\"{n_bodies}x0e + {n_bodies}x1o\")\n",
    "        irreps_hidden = Irreps(\"16x0e + 16x1o\") \n",
    "        irreps_out = Irreps(f\"{n_bodies}x1o\")\n",
    "\n",
    "        self.layers = torch.nn.Sequential(\n",
    "            FullyConnectedNet([irreps_in.dim, 128, irreps_hidden.dim], torch.relu),\n",
    "            Gate(\n",
    "                irreps_scalars=\"16x0e\",\n",
    "                act_scalars=[torch.relu],\n",
    "                irreps_gates=\"16x0e\",\n",
    "                act_gates=[torch.sigmoid],\n",
    "                irreps_gated=\"16x1o\"\n",
    "            ),\n",
    "            FullyConnectedNet([irreps_hidden.dim, irreps_out.dim], torch.relu)\n",
    "        )\n",
    "\n",
    "    def forward(self, x):\n",
    "        return self.layers(x)\n",
    "\n",
    "\n",
    "learning_rate = 1e-4\n",
    "epochs = 100\n",
    "batch_size = 32\n",
    "\n",
    "#n_bodies = data[\"positions\"].shape[1]\n",
    "n_bodies = 5\n",
    "model = NBodyModel(n_bodies)"
   ]
  },
  {
   "cell_type": "code",
   "execution_count": null,
   "outputs": [],
   "source": [],
   "metadata": {
    "collapsed": false
   },
   "id": "df43a3d6c1fc56cd"
  },
  {
   "cell_type": "code",
   "execution_count": null,
   "outputs": [],
   "source": [
    "optimizer = torch.optim.Adam(model.parameters(), lr=learning_rate)\n",
    "\n",
    "# Training loop\n",
    "for epoch in range(epochs):\n",
    "    for batch in DataLoader(train_data, batch_size=batch_size, shuffle=True):\n",
    "        positions, masses, forces = batch['positions'], batch['masses'], batch['forces']\n",
    "\n",
    "        # Combine positions and masses as input\n",
    "        inputs = torch.cat((positions, masses.unsqueeze(-1)), dim=-1)\n",
    "\n",
    "        # Model predictions\n",
    "        predictions = model(inputs)\n",
    "\n",
    "        # Compute loss\n",
    "        loss = torch.nn.functional.mse_loss(predictions, forces)\n",
    "\n",
    "        # Backpropagation\n",
    "        optimizer.zero_grad()\n",
    "        loss.backward()\n",
    "        optimizer.step()\n",
    "\n",
    "    print(f\"Epoch {epoch + 1}, Loss: {loss.item()}\")\n"
   ],
   "metadata": {
    "collapsed": false
   },
   "id": "d48697c93a0b35b2"
  },
  {
   "cell_type": "code",
   "execution_count": null,
   "outputs": [],
   "source": [],
   "metadata": {
    "collapsed": false
   },
   "id": "2c3d3331728f89d0"
  },
  {
   "cell_type": "code",
   "execution_count": null,
   "outputs": [],
   "source": [
    "# Evaluation\n",
    "model.eval()\n",
    "with torch.no_grad():\n",
    "    test_positions, test_masses, test_forces = test_data['positions'], test_data['masses'], test_data['forces']\n",
    "    inputs = torch.cat((test_positions, test_masses.unsqueeze(-1)), dim=-1)\n",
    "    test_predictions = model(inputs)\n",
    "    test_loss = torch.nn.functional.mse_loss(test_predictions, test_forces)\n",
    "print(f\"Test Loss: {test_loss.item()}\")\n"
   ],
   "metadata": {
    "collapsed": false
   },
   "id": "d68a91a9e7ba4ff7"
  }
 ],
 "metadata": {
  "kernelspec": {
   "display_name": "Python 3",
   "language": "python",
   "name": "python3"
  },
  "language_info": {
   "codemirror_mode": {
    "name": "ipython",
    "version": 2
   },
   "file_extension": ".py",
   "mimetype": "text/x-python",
   "name": "python",
   "nbconvert_exporter": "python",
   "pygments_lexer": "ipython2",
   "version": "2.7.6"
  }
 },
 "nbformat": 4,
 "nbformat_minor": 5
}
