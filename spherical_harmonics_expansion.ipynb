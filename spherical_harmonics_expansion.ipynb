{
 "cells": [
  {
   "cell_type": "markdown",
   "source": [
    "# SH expansion analytically"
   ],
   "metadata": {
    "collapsed": false
   },
   "id": "671585cf19419c9e"
  },
  {
   "cell_type": "code",
   "execution_count": 8,
   "outputs": [
    {
     "data": {
      "text/plain": "{(0, 0): (0, 0),\n (1, -1): (sqrt(6)*sqrt(pi)/3, 0),\n (1, 0): (0, 0),\n (1, 1): (-sqrt(6)*sqrt(pi)/3, 0),\n (2, -2): (0, 0),\n (2, -1): (0, 0),\n (2, 0): (0, 0),\n (2, 1): (0, 0),\n (2, 2): (0, 0)}"
     },
     "execution_count": 8,
     "metadata": {},
     "output_type": "execute_result"
    }
   ],
   "source": [
    "from sympy import symbols, integrate, sin, cos, exp, pi, sqrt, Ynm, re, im\n",
    "\n",
    "# Define the variables\n",
    "theta, phi = symbols('theta phi')\n",
    "\n",
    "# Define the function f(theta, phi) in terms of exponential\n",
    "#f_exp = sin(theta) * (exp(1j*phi) + exp(-1j*phi)) / 2\n",
    "f_exp = sin(theta) * cos(phi)\n",
    "\n",
    "# Function to calculate the spherical harmonic coefficient\n",
    "def calculate_coefficient(l, m, f):\n",
    "    Y_lm = Ynm(l, m, theta, phi).expand(func=True)\n",
    "    integrand = f * Y_lm.conjugate() * sin(theta)\n",
    "    a_lm_real_part = integrate(re(integrand), (theta, 0, pi), (phi, 0, 2*pi))\n",
    "    a_lm_imag_part = integrate(im(integrand), (theta, 0, pi), (phi, 0, 2*pi))\n",
    "    return a_lm_real_part, a_lm_imag_part\n",
    "\n",
    "# Calculating coefficients for l=0 to l=2\n",
    "coefficients = {}\n",
    "for l in range(3):\n",
    "    for m in range(-l, l + 1):\n",
    "        coefficients[(l, m)] = calculate_coefficient(l, m, f_exp)\n",
    "\n",
    "coefficients\n"
   ],
   "metadata": {
    "collapsed": false,
    "ExecuteTime": {
     "end_time": "2024-01-23T09:51:32.810689200Z",
     "start_time": "2024-01-23T09:51:31.026159600Z"
    }
   },
   "id": "1111a7a7704c7b12"
  },
  {
   "cell_type": "markdown",
   "source": [
    "# Numerical epxpansion"
   ],
   "metadata": {
    "collapsed": false
   },
   "id": "66c7c9af0962bcf0"
  },
  {
   "cell_type": "code",
   "execution_count": 9,
   "outputs": [
    {
     "name": "stderr",
     "output_type": "stream",
     "text": [
      "C:\\Users\\MartinKaras(AI)\\.conda\\envs\\n_body_approx\\lib\\site-packages\\scipy\\integrate\\_quadpack_py.py:575: ComplexWarning: Casting complex values to real discards the imaginary part\n",
      "  return _quadpack._qagse(func,a,b,args,full_output,epsabs,epsrel,limit)\n"
     ]
    },
    {
     "data": {
      "text/plain": "{(1, -1): 1.4472025091165355, (1, 1): -1.4472025091165355}"
     },
     "execution_count": 9,
     "metadata": {},
     "output_type": "execute_result"
    }
   ],
   "source": [
    "import numpy as np\n",
    "import scipy.integrate as integrate\n",
    "import scipy.special as special\n",
    "\n",
    "# Function to be expanded: sin(theta) * cos(phi)\n",
    "def function(theta, phi):\n",
    "    return np.sin(theta) * np.cos(phi)\n",
    "\n",
    "# Spherical harmonics expansion coefficients\n",
    "def spherical_harmonic_coeff(l, m):\n",
    "    def integrand(phi, theta):\n",
    "        # Spherical harmonic Y_lm(theta, phi)\n",
    "        Y_lm = special.sph_harm(m, l, phi, theta)\n",
    "        return function(theta, phi) * np.conj(Y_lm) * np.sin(theta)\n",
    "\n",
    "    # Integration over theta [0, pi] and phi [0, 2*pi]\n",
    "    return integrate.nquad(integrand, [[0, np.pi], [0, 2*np.pi]])[0]\n",
    "\n",
    "# Range of l and m for the expansion\n",
    "l_max = 5\n",
    "\n",
    "# Calculate coefficients\n",
    "coefficients = {}\n",
    "for l in range(l_max + 1):\n",
    "    for m in range(-l, l + 1):\n",
    "        coeff = spherical_harmonic_coeff(l, m)\n",
    "        if np.abs(coeff) > 1e-10:  # Ignoring very small coefficients for clarity\n",
    "            coefficients[(l, m)] = coeff\n",
    "\n",
    "coefficients\n",
    "\n"
   ],
   "metadata": {
    "collapsed": false,
    "ExecuteTime": {
     "end_time": "2024-01-23T09:51:33.047244800Z",
     "start_time": "2024-01-23T09:51:32.816245700Z"
    }
   },
   "id": "b5851dddef8a6ff0"
  },
  {
   "cell_type": "markdown",
   "source": [
    "# numerical expansion, manual sampling"
   ],
   "metadata": {
    "collapsed": false
   },
   "id": "ac2e7ca33f391a5b"
  },
  {
   "cell_type": "code",
   "execution_count": 10,
   "outputs": [
    {
     "data": {
      "text/plain": "{(0, 0): (0.03393199873069333+0j),\n (1, -1): (1.428660980066449-2.072447717324013e-17j),\n (1, 1): (-1.428660980066449-2.072447717324013e-17j),\n (2, -2): (0.03484747711132016+6.163572403142541e-18j),\n (2, 0): (-0.009484281971783352+0j),\n (2, 2): (0.03484747711132018+3.483060446567529e-18j),\n (3, -3): (0.03407942971023795-4.32123038568357e-17j),\n (3, -1): (2.8287634503052517e-06+5.366374236416639e-18j),\n (3, 1): (-2.8287634503490814e-06-2.3434415907781536e-18j),\n (3, 3): (-0.03407942971023795-4.317459034771613e-17j),\n (4, -4): (0.03326900034184693-4.452476323377711e-17j),\n (4, -2): (0.005029800072700013-6.420387919940147e-20j),\n (4, 0): (-0.0015905624405012431+0j),\n (4, 2): (0.005029800072700008-5.221915508217986e-18j),\n (4, 4): (0.03326900034184694+3.716271841891241e-17j),\n (5, -5): (0.03249511914587252-1.7477069460069017e-16j),\n (5, -3): (0.008073476794919-7.994553343540055e-18j),\n (5, -1): (5.646089253799144e-06+6.891216367402424e-18j),\n (5, 1): (-5.646089253875847e-06+5.8639543002120006e-18j),\n (5, 3): (-0.008073476794919005-1.0049370073724545e-17j),\n (5, 5): (-0.032495119145872504-1.6859542212081678e-16j)}"
     },
     "execution_count": 10,
     "metadata": {},
     "output_type": "execute_result"
    }
   ],
   "source": [
    "# Number of sample points in theta and phi directions\n",
    "n_theta = 40\n",
    "n_phi = 80\n",
    "\n",
    "# Generate sample points\n",
    "theta_samples = np.linspace(0, np.pi, n_theta)\n",
    "phi_samples = np.linspace(0, 2 * np.pi, n_phi)\n",
    "\n",
    "# Evaluate the function at each sample point\n",
    "function_samples = np.array([[function(theta, phi) for phi in phi_samples] for theta in theta_samples])\n",
    "\n",
    "# Initialize a dictionary to store coefficients\n",
    "coefficients_manual = {}\n",
    "\n",
    "# Calculate coefficients manually\n",
    "for l in range(l_max + 1):\n",
    "    for m in range(-l, l + 1):\n",
    "        # Evaluate spherical harmonics at each sample point\n",
    "        Y_lm_samples = np.array([[special.sph_harm(m, l, phi, theta) for phi in phi_samples] for theta in theta_samples])\n",
    "\n",
    "        # Approximate the coefficient a_lm\n",
    "        product = function_samples * np.conj(Y_lm_samples) * np.sin(theta_samples)[:, np.newaxis]\n",
    "        coeff = np.sum(product) * (np.pi / n_theta) * (2 * np.pi / n_phi)  # Multiplying by the area element\n",
    "\n",
    "        if np.abs(coeff) > 1e-10:  # Ignoring very small coefficients for clarity\n",
    "            coefficients_manual[(l, m)] = coeff\n",
    "\n",
    "coefficients_manual\n",
    "\n"
   ],
   "metadata": {
    "collapsed": false,
    "ExecuteTime": {
     "end_time": "2024-01-23T09:51:33.218307800Z",
     "start_time": "2024-01-23T09:51:33.097473200Z"
    }
   },
   "id": "68159fa99195ebfc"
  },
  {
   "cell_type": "markdown",
   "source": [
    "# Ugly function numerical SH expansion"
   ],
   "metadata": {
    "collapsed": false
   },
   "id": "cb75db8f783b0c35"
  },
  {
   "cell_type": "code",
   "execution_count": 11,
   "outputs": [
    {
     "data": {
      "text/plain": "{(0, 0): 2.7297309044538403e-17,\n (1, -1): 0.9320936868986063,\n (1, 0): -1.8909069314855235e-18,\n (1, 1): -0.9320936868986063,\n (2, -2): 8.468396730909905e-18,\n (2, -1): 4.788951286468991e-18,\n (2, 0): -1.7303817402801495e-17,\n (2, 1): -2.941476049926174e-17,\n (2, 2): 1.1594652399083913e-17,\n (3, -3): 0.26437990607135164,\n (3, -2): 1.2154364556855747e-18,\n (3, -1): -0.2587483254005577,\n (3, 0): 4.011666887455601e-18,\n (3, 1): 0.2587483254005577,\n (3, 2): 1.5179316159542096e-18,\n (3, 3): -0.26437990607135164,\n (4, -4): -7.721452261421655e-17,\n (4, -3): 2.3505657094580146e-17,\n (4, -2): -1.0798898955069175e-18,\n (4, -1): -5.964363887538337e-17,\n (4, 0): 1.1209738830144967e-17,\n (4, 1): 8.951613538074697e-17,\n (4, 2): -1.0686502483684074e-18,\n (4, 3): -2.3957643835915662e-17,\n (4, 4): -7.518525863134607e-17,\n (5, -5): -0.03431227331854357,\n (5, -4): 3.1606485252313934e-19,\n (5, -3): 0.005514067310438473,\n (5, -2): 3.837825835553818e-18,\n (5, -1): 0.004920288981738131,\n (5, 0): 2.775772299250875e-18,\n (5, 1): -0.004920288981738125,\n (5, 2): 5.42312748535003e-18,\n (5, 3): -0.005514067310438474,\n (5, 4): -2.130820910450744e-18,\n (5, 5): 0.03431227331854354,\n (6, -6): -2.242621772297703e-16,\n (6, -5): -7.903226909127252e-18,\n (6, -4): 8.974732131948226e-18,\n (6, -3): -6.7346944981076356e-18,\n (6, -2): 7.916765358056418e-18,\n (6, -1): 1.0224591281376848e-16,\n (6, 0): -1.2050752918063158e-18,\n (6, 1): -5.59386260586764e-17,\n (6, 2): 9.638790159444551e-18,\n (6, 3): 1.5942226771889192e-18,\n (6, 4): 6.861877086127343e-18,\n (6, 5): -8.103410420193498e-18,\n (6, 6): -2.2594279316928864e-16,\n (7, -7): 0.0006664595317641686,\n (7, -6): -1.69103288872223e-18,\n (7, -5): 6.821547870690956e-05,\n (7, -4): 4.766126685849378e-18,\n (7, -3): -6.468540468166153e-05,\n (7, -2): 2.86188399303517e-18,\n (7, -1): -3.705917515463633e-05,\n (7, 0): -2.7205117930733276e-18,\n (7, 1): 3.705917515465021e-05,\n (7, 2): 3.1833878603097628e-18,\n (7, 3): 6.46854046816676e-05,\n (7, 4): 4.081766600219323e-18,\n (7, 5): -6.821547870690674e-05,\n (7, 6): -1.0613032990554838e-18,\n (7, 7): -0.0006664595317641721,\n (8, -8): 2.7666774677418302e-17,\n (8, -7): -5.393215499449748e-18,\n (8, -6): -4.0981849788999456e-17,\n (8, -5): -4.32161139645317e-18,\n (8, -4): -1.4601462488692597e-18,\n (8, -3): -1.1347705194547722e-18,\n (8, -2): -1.3548202149885943e-18,\n (8, -1): 5.569686346802102e-17,\n (8, 0): -1.0846415317616448e-18,\n (8, 1): -6.485114712627355e-17,\n (8, 2): -1.812409930180416e-18,\n (8, 3): -2.4119681129229488e-17,\n (8, 4): -8.404704610660678e-19,\n (8, 5): 2.578915788337653e-18,\n (8, 6): -4.061398896079165e-17,\n (8, 7): 4.4424271025781075e-18,\n (8, 8): 3.2973752045585876e-17,\n (9, -9): -5.232518912985477e-06,\n (9, -8): -4.748888779344681e-19,\n (9, -7): -1.2647535815851069e-06,\n (9, -6): 1.3250846386675863e-17,\n (9, -5): 4.828412491445638e-09,\n (9, -4): -1.9856110848769087e-18,\n (9, -3): 3.1075958035163553e-07,\n (9, -2): -4.780700430119207e-18,\n (9, -1): 1.513604695000531e-07,\n (9, 0): 6.7254971161868015e-18,\n (9, 1): -1.5136046948791004e-07,\n (9, 2): -9.552302348437378e-18,\n (9, 3): -3.1075958035055133e-07,\n (9, 4): 1.765797197370882e-18,\n (9, 5): -4.828412497950851e-09,\n (9, 6): 1.0763671734206835e-17,\n (9, 7): 1.264753581582288e-06,\n (9, 8): 2.4788753621899422e-18,\n (9, 9): 5.232518912987212e-06,\n (10, -10): 1.0151516588468185e-16,\n (10, -9): 7.020200021509478e-18,\n (10, -8): 9.346325334570375e-18,\n (10, -7): 3.547321994259775e-18,\n (10, -6): -1.964852546423707e-17,\n (10, -5): 2.2977542004306956e-17,\n (10, -4): -2.1588289795826663e-18,\n (10, -3): 2.0800261546965504e-18,\n (10, -2): -1.7892263343635866e-18,\n (10, -1): -9.968197821793694e-17,\n (10, 0): -3.876081506094257e-18,\n (10, 1): 8.767866845535458e-17,\n (10, 2): -2.462549289747404e-18,\n (10, 3): -9.374051111962453e-18,\n (10, 4): -1.0557763946553234e-18,\n (10, 5): -2.212702453474343e-17,\n (10, 6): -2.4554853396963607e-17,\n (10, 7): -3.451122968165134e-18,\n (10, 8): 1.2428214273923975e-17,\n (10, 9): -4.119818386884361e-18,\n (10, 10): 1.0280838070531709e-16}"
     },
     "execution_count": 11,
     "metadata": {},
     "output_type": "execute_result"
    }
   ],
   "source": [
    "import numpy as np\n",
    "import scipy.integrate as integrate\n",
    "import scipy.special as special\n",
    "\n",
    "# Function to be expanded in terms of theta and phi\n",
    "def function_spherical(theta, phi):\n",
    "    return (np.sin(theta)**3 * np.cos(phi)**3) / np.exp(np.sin(theta) * np.sin(phi))\n",
    "\n",
    "# Spherical harmonics expansion coefficients\n",
    "def spherical_harmonic_coeff(l, m, func):\n",
    "    def integrand(phi, theta):\n",
    "        # Spherical harmonic Y_lm(theta, phi)\n",
    "        Y_lm = special.sph_harm(m, l, phi, theta)\n",
    "        return func(theta, phi) * np.conj(Y_lm) * np.sin(theta)\n",
    "\n",
    "    # Integration over theta [0, pi] and phi [0, 2*pi]\n",
    "    return integrate.nquad(integrand, [[0, np.pi], [0, 2*np.pi]])[0]\n",
    "\n",
    "# Range of l and m for the expansion\n",
    "l_max = 10\n",
    "\n",
    "# Calculate coefficients\n",
    "coefficients_spherical = {}\n",
    "for l in range(l_max + 1):\n",
    "    for m in range(-l, l + 1):\n",
    "        coeff = spherical_harmonic_coeff(l, m, function_spherical)\n",
    "\n",
    "        coefficients_spherical[(l, m)] = coeff\n",
    "\n",
    "coefficients_spherical\n",
    "\n"
   ],
   "metadata": {
    "collapsed": false,
    "ExecuteTime": {
     "end_time": "2024-01-23T09:51:35.755229Z",
     "start_time": "2024-01-23T09:51:33.249390900Z"
    }
   },
   "id": "5d217bf2799751b5"
  },
  {
   "cell_type": "markdown",
   "source": [
    "# Plot shape difference"
   ],
   "metadata": {
    "collapsed": false
   },
   "id": "e60510e2ce668945"
  },
  {
   "cell_type": "code",
   "execution_count": 12,
   "outputs": [],
   "source": [
    "%matplotlib qt\n",
    "import matplotlib.pyplot as plt\n",
    "from mpl_toolkits.mplot3d import Axes3D\n",
    "\n",
    "# Function to compute the spherical harmonics approximation\n",
    "def spherical_harmonics_approx(theta, phi, coefficients, l_max):\n",
    "    approx = np.zeros(theta.shape, dtype=complex)\n",
    "    for l in range(l_max + 1):\n",
    "        for m in range(-l, l + 1):\n",
    "            if (l, m) in coefficients:\n",
    "                approx += coefficients[(l, m)] * special.sph_harm(m, l, phi, theta)\n",
    "    return approx\n",
    "\n",
    "# Generate a meshgrid for theta and phi\n",
    "theta_mesh, phi_mesh = np.meshgrid(np.linspace(0, np.pi, 100), np.linspace(0, 2*np.pi, 100))\n",
    "\n",
    "# Evaluate the original function and the approximation on the meshgrid\n",
    "original_values = function_spherical(theta_mesh, phi_mesh)\n",
    "approximation_values = spherical_harmonics_approx(theta_mesh, phi_mesh, coefficients_spherical, l_max)\n",
    "\n",
    "# Convert to Cartesian coordinates for plotting\n",
    "x_original = np.sin(theta_mesh) * np.cos(phi_mesh) * original_values.real\n",
    "y_original = np.sin(theta_mesh) * np.sin(phi_mesh) * original_values.real\n",
    "z_original = np.cos(theta_mesh) * original_values.real\n",
    "\n",
    "x_approx = np.sin(theta_mesh) * np.cos(phi_mesh) * approximation_values.real\n",
    "y_approx = np.sin(theta_mesh) * np.sin(phi_mesh) * approximation_values.real\n",
    "z_approx = np.cos(theta_mesh) * approximation_values.real\n",
    "\n",
    "# Create plots\n",
    "fig = plt.figure(figsize=(12, 6))\n",
    "\n",
    "# Original function\n",
    "ax1 = fig.add_subplot(121, projection='3d')\n",
    "ax1.plot_surface(x_original, y_original, z_original, cmap='viridis')\n",
    "ax1.set_title('Original Function')\n",
    "ax1.set_xlabel('X')\n",
    "ax1.set_ylabel('Y')\n",
    "ax1.set_zlabel('Z')\n",
    "\n",
    "# Spherical harmonics approximation\n",
    "ax2 = fig.add_subplot(122, projection='3d')\n",
    "ax2.plot_surface(x_approx, y_approx, z_approx, cmap='viridis')\n",
    "ax2.set_title('Spherical Harmonics Approximation')\n",
    "ax2.set_xlabel('X')\n",
    "ax2.set_ylabel('Y')\n",
    "ax2.set_zlabel('Z')\n",
    "\n",
    "plt.show()\n",
    "\n"
   ],
   "metadata": {
    "collapsed": false,
    "ExecuteTime": {
     "end_time": "2024-01-23T09:51:36.097896400Z",
     "start_time": "2024-01-23T09:51:35.764369500Z"
    }
   },
   "id": "a2cf36425d2b49d"
  },
  {
   "cell_type": "markdown",
   "source": [
    "# Plot color difference"
   ],
   "metadata": {
    "collapsed": false
   },
   "id": "35857bd274148d3"
  },
  {
   "cell_type": "code",
   "execution_count": 13,
   "outputs": [],
   "source": [
    "%matplotlib qt\n",
    "#%matplotlib inline\n",
    "# Function to plot a function on the surface of a sphere using color\n",
    "def plot_function_on_sphere(ax, theta, phi, values, title):\n",
    "    # Convert to Cartesian coordinates for plotting\n",
    "    x = np.sin(theta) * np.cos(phi)\n",
    "    y = np.sin(theta) * np.sin(phi)\n",
    "    z = np.cos(theta)\n",
    "\n",
    "    # \n",
    "    # x = abs(values) * np.sin(theta) * np.cos(phi)\n",
    "    # y = abs(values) * np.sin(theta) * np.sin(phi)\n",
    "    # z = abs(values) * np.cos(theta)\n",
    "\n",
    "    # x = values * np.sin(theta) * np.cos(phi)\n",
    "    # y = values * np.sin(theta) * np.sin(phi)\n",
    "    # z = values * np.cos(theta)\n",
    "\n",
    "    # Plot the function values as colors on the sphere\n",
    "    ax.plot_surface(x, y, z, facecolors=plt.cm.viridis(values), rstride=1, cstride=1)\n",
    "    ax.set_title(title)\n",
    "    ax.set_xlabel('X')\n",
    "    ax.set_ylabel('Y')\n",
    "    ax.set_zlabel('Z')\n",
    "\n",
    "# Create plots\n",
    "fig = plt.figure(figsize=(12, 6))\n",
    "\n",
    "# Original function\n",
    "ax1 = fig.add_subplot(121, projection='3d')\n",
    "plot_function_on_sphere(ax1, theta_mesh, phi_mesh, original_values.real, 'Original Function')\n",
    "\n",
    "# Spherical harmonics approximation\n",
    "ax2 = fig.add_subplot(122, projection='3d')\n",
    "plot_function_on_sphere(ax2, theta_mesh, phi_mesh, approximation_values.real, 'Spherical Harmonics Approximation')\n",
    "\n",
    "plt.show()\n",
    "\n"
   ],
   "metadata": {
    "collapsed": false,
    "ExecuteTime": {
     "end_time": "2024-01-23T09:51:36.951932500Z",
     "start_time": "2024-01-23T09:51:36.101210700Z"
    }
   },
   "id": "aab70f3e2e36538"
  },
  {
   "cell_type": "markdown",
   "source": [
    "# Ugly function expansion using SHtools"
   ],
   "metadata": {
    "collapsed": false
   },
   "id": "60228c748d0d799b"
  },
  {
   "cell_type": "code",
   "execution_count": null,
   "outputs": [],
   "source": [
    "import numpy as np\n",
    "import pyshtools\n",
    "\n",
    "# Step 1: Define the function on a grid over the sphere\n",
    "def func(theta, phi):\n",
    "    return (np.sin(theta)**3 * np.cos(phi)**3) / np.exp(np.sin(theta) * np.sin(phi))\n",
    "\n",
    "# Define the grid parameters\n",
    "lmax = 15  # Maximum degree of spherical harmonics\n",
    "theta = np.linspace(0, np.pi, 2 * lmax + 1)  # Colatitude\n",
    "phi = np.linspace(0, 2 * np.pi, 2 * lmax + 1)  # Longitude\n",
    "theta, phi = np.meshgrid(theta, phi)\n",
    "\n",
    "# Evaluate the function on the grid\n",
    "f_grid = func(theta, phi)\n",
    "\n",
    "# Step 2: Expand the grid into spherical harmonics coefficients\n",
    "coeffs = pyshtools.expand.SHExpandDH(f_grid, sampling=2)\n",
    "\n",
    "# Step 3 (optional): Reconstruct the function from these coefficients\n",
    "f_reconstructed = pyshtools.expand.MakeGridDH(coeffs, sampling=2)\n",
    "\n",
    "coeffs.shape, f_reconstructed.shape  # Display the shape of the coefficients and the reconstructed function\n",
    "\n"
   ],
   "metadata": {
    "collapsed": false,
    "is_executing": true
   },
   "id": "83891b94a5c81b4b"
  }
 ],
 "metadata": {
  "kernelspec": {
   "display_name": "Python 3",
   "language": "python",
   "name": "python3"
  },
  "language_info": {
   "codemirror_mode": {
    "name": "ipython",
    "version": 2
   },
   "file_extension": ".py",
   "mimetype": "text/x-python",
   "name": "python",
   "nbconvert_exporter": "python",
   "pygments_lexer": "ipython2",
   "version": "2.7.6"
  }
 },
 "nbformat": 4,
 "nbformat_minor": 5
}
