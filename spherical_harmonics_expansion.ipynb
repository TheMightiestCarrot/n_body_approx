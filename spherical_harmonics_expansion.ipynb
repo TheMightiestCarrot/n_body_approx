{
 "cells": [
  {
   "cell_type": "markdown",
   "source": [
    "# SH expansion analytically"
   ],
   "metadata": {
    "collapsed": false
   },
   "id": "671585cf19419c9e"
  },
  {
   "cell_type": "code",
   "execution_count": 8,
   "outputs": [
    {
     "data": {
      "text/plain": "{(0, 0): (0, 0),\n (1, -1): (sqrt(6)*sqrt(pi)/3, 0),\n (1, 0): (0, 0),\n (1, 1): (-sqrt(6)*sqrt(pi)/3, 0),\n (2, -2): (0, 0),\n (2, -1): (0, 0),\n (2, 0): (0, 0),\n (2, 1): (0, 0),\n (2, 2): (0, 0)}"
     },
     "execution_count": 8,
     "metadata": {},
     "output_type": "execute_result"
    }
   ],
   "source": [
    "from sympy import symbols, integrate, sin, cos, exp, pi, sqrt, Ynm, re, im\n",
    "\n",
    "# Define the variables\n",
    "theta, phi = symbols('theta phi')\n",
    "\n",
    "# Define the function f(theta, phi) in terms of exponential\n",
    "#f_exp = sin(theta) * (exp(1j*phi) + exp(-1j*phi)) / 2\n",
    "f_exp = sin(theta) * cos(phi)\n",
    "\n",
    "\n",
    "# Function to calculate the spherical harmonic coefficient\n",
    "def calculate_coefficient(l, m, f):\n",
    "    Y_lm = Ynm(l, m, theta, phi).expand(func=True)\n",
    "    integrand = f * Y_lm.conjugate() * sin(theta)\n",
    "    a_lm_real_part = integrate(re(integrand), (theta, 0, pi), (phi, 0, 2 * pi))\n",
    "    a_lm_imag_part = integrate(im(integrand), (theta, 0, pi), (phi, 0, 2 * pi))\n",
    "    return a_lm_real_part, a_lm_imag_part\n",
    "\n",
    "\n",
    "# Calculating coefficients for l=0 to l=2\n",
    "coefficients = {}\n",
    "for l in range(3):\n",
    "    for m in range(-l, l + 1):\n",
    "        coefficients[(l, m)] = calculate_coefficient(l, m, f_exp)\n",
    "\n",
    "coefficients\n"
   ],
   "metadata": {
    "collapsed": false,
    "ExecuteTime": {
     "end_time": "2024-01-23T09:51:32.810689200Z",
     "start_time": "2024-01-23T09:51:31.026159600Z"
    }
   },
   "id": "1111a7a7704c7b12"
  },
  {
   "cell_type": "markdown",
   "source": [
    "# Numerical epxpansion"
   ],
   "metadata": {
    "collapsed": false
   },
   "id": "66c7c9af0962bcf0"
  },
  {
   "cell_type": "code",
   "execution_count": 9,
   "outputs": [
    {
     "name": "stderr",
     "output_type": "stream",
     "text": [
      "C:\\Users\\MartinKaras(AI)\\.conda\\envs\\n_body_approx\\lib\\site-packages\\scipy\\integrate\\_quadpack_py.py:575: ComplexWarning: Casting complex values to real discards the imaginary part\n",
      "  return _quadpack._qagse(func,a,b,args,full_output,epsabs,epsrel,limit)\n"
     ]
    },
    {
     "data": {
      "text/plain": "{(1, -1): 1.4472025091165355, (1, 1): -1.4472025091165355}"
     },
     "execution_count": 9,
     "metadata": {},
     "output_type": "execute_result"
    }
   ],
   "source": [
    "import numpy as np\n",
    "import scipy.integrate as integrate\n",
    "import scipy.special as special\n",
    "\n",
    "\n",
    "# Function to be expanded: sin(theta) * cos(phi)\n",
    "def function(theta, phi):\n",
    "    return np.sin(theta) * np.cos(phi)\n",
    "\n",
    "\n",
    "# Spherical harmonics expansion coefficients\n",
    "def spherical_harmonic_coeff(l, m):\n",
    "    def integrand(phi, theta):\n",
    "        # Spherical harmonic Y_lm(theta, phi)\n",
    "        Y_lm = special.sph_harm(m, l, phi, theta)\n",
    "        return function(theta, phi) * np.conj(Y_lm) * np.sin(theta)\n",
    "\n",
    "    # Integration over theta [0, pi] and phi [0, 2*pi]\n",
    "    return integrate.nquad(integrand, [[0, np.pi], [0, 2 * np.pi]])[0]\n",
    "\n",
    "\n",
    "# Range of l and m for the expansion\n",
    "l_max = 5\n",
    "\n",
    "# Calculate coefficients\n",
    "coefficients = {}\n",
    "for l in range(l_max + 1):\n",
    "    for m in range(-l, l + 1):\n",
    "        coeff = spherical_harmonic_coeff(l, m)\n",
    "        if np.abs(coeff) > 1e-10:  # Ignoring very small coefficients for clarity\n",
    "            coefficients[(l, m)] = coeff\n",
    "\n",
    "coefficients\n",
    "\n"
   ],
   "metadata": {
    "collapsed": false,
    "ExecuteTime": {
     "end_time": "2024-01-23T09:51:33.047244800Z",
     "start_time": "2024-01-23T09:51:32.816245700Z"
    }
   },
   "id": "b5851dddef8a6ff0"
  },
  {
   "cell_type": "markdown",
   "source": [
    "# numerical expansion, manual sampling"
   ],
   "metadata": {
    "collapsed": false
   },
   "id": "ac2e7ca33f391a5b"
  },
  {
   "cell_type": "code",
   "execution_count": 10,
   "outputs": [
    {
     "data": {
      "text/plain": "{(0, 0): (0.03393199873069333+0j),\n (1, -1): (1.428660980066449-2.072447717324013e-17j),\n (1, 1): (-1.428660980066449-2.072447717324013e-17j),\n (2, -2): (0.03484747711132016+6.163572403142541e-18j),\n (2, 0): (-0.009484281971783352+0j),\n (2, 2): (0.03484747711132018+3.483060446567529e-18j),\n (3, -3): (0.03407942971023795-4.32123038568357e-17j),\n (3, -1): (2.8287634503052517e-06+5.366374236416639e-18j),\n (3, 1): (-2.8287634503490814e-06-2.3434415907781536e-18j),\n (3, 3): (-0.03407942971023795-4.317459034771613e-17j),\n (4, -4): (0.03326900034184693-4.452476323377711e-17j),\n (4, -2): (0.005029800072700013-6.420387919940147e-20j),\n (4, 0): (-0.0015905624405012431+0j),\n (4, 2): (0.005029800072700008-5.221915508217986e-18j),\n (4, 4): (0.03326900034184694+3.716271841891241e-17j),\n (5, -5): (0.03249511914587252-1.7477069460069017e-16j),\n (5, -3): (0.008073476794919-7.994553343540055e-18j),\n (5, -1): (5.646089253799144e-06+6.891216367402424e-18j),\n (5, 1): (-5.646089253875847e-06+5.8639543002120006e-18j),\n (5, 3): (-0.008073476794919005-1.0049370073724545e-17j),\n (5, 5): (-0.032495119145872504-1.6859542212081678e-16j)}"
     },
     "execution_count": 10,
     "metadata": {},
     "output_type": "execute_result"
    }
   ],
   "source": [
    "# Number of sample points in theta and phi directions\n",
    "n_theta = 40\n",
    "n_phi = 80\n",
    "\n",
    "# Generate sample points\n",
    "theta_samples = np.linspace(0, np.pi, n_theta)\n",
    "phi_samples = np.linspace(0, 2 * np.pi, n_phi)\n",
    "\n",
    "# Evaluate the function at each sample point\n",
    "function_samples = np.array([[function(theta, phi) for phi in phi_samples] for theta in theta_samples])\n",
    "\n",
    "# Initialize a dictionary to store coefficients\n",
    "coefficients_manual = {}\n",
    "\n",
    "# Calculate coefficients manually\n",
    "for l in range(l_max + 1):\n",
    "    for m in range(-l, l + 1):\n",
    "        # Evaluate spherical harmonics at each sample point\n",
    "        Y_lm_samples = np.array(\n",
    "            [[special.sph_harm(m, l, phi, theta) for phi in phi_samples] for theta in theta_samples])\n",
    "\n",
    "        # Approximate the coefficient a_lm\n",
    "        product = function_samples * np.conj(Y_lm_samples) * np.sin(theta_samples)[:, np.newaxis]\n",
    "        coeff = np.sum(product) * (np.pi / n_theta) * (2 * np.pi / n_phi)  # Multiplying by the area element\n",
    "\n",
    "        if np.abs(coeff) > 1e-10:  # Ignoring very small coefficients for clarity\n",
    "            coefficients_manual[(l, m)] = coeff\n",
    "\n",
    "coefficients_manual\n",
    "\n"
   ],
   "metadata": {
    "collapsed": false,
    "ExecuteTime": {
     "end_time": "2024-01-23T09:51:33.218307800Z",
     "start_time": "2024-01-23T09:51:33.097473200Z"
    }
   },
   "id": "68159fa99195ebfc"
  },
  {
   "cell_type": "markdown",
   "source": [
    "# More interesting function numerical SH expansion"
   ],
   "metadata": {
    "collapsed": false
   },
   "id": "cb75db8f783b0c35"
  },
  {
   "cell_type": "code",
   "execution_count": 2,
   "outputs": [
    {
     "name": "stderr",
     "output_type": "stream",
     "text": [
      "C:\\Users\\MartinKaras(AI)\\.conda\\envs\\n_body_approx\\lib\\site-packages\\scipy\\integrate\\_quadpack_py.py:575: ComplexWarning: Casting complex values to real discards the imaginary part\n",
      "  return _quadpack._qagse(func,a,b,args,full_output,epsabs,epsrel,limit)\n"
     ]
    },
    {
     "data": {
      "text/plain": "{(0, 0): 3.2891416549956576e-17,\n (1, -1): 1.4472025091165355,\n (1, 0): -3.1801085764920604e-18,\n (1, 1): -1.4472025091165355,\n (2, -2): -1.4834013446860377e-17,\n (2, -1): -1.6027209239717265e-18,\n (2, 0): -6.135880427685291e-18,\n (2, 1): -7.803918782218324e-17,\n (2, 2): -2.1807354025354915e-17,\n (3, -3): 1.3161090529218855e-16,\n (3, -2): 3.4567619178517817e-18,\n (3, -1): 1.6349383584415468e-17,\n (3, 0): 4.859962174874005e-19,\n (3, 1): 1.634938358441543e-17,\n (3, 2): -5.533098858600038e-19,\n (3, 3): -1.2832449835861397e-16,\n (4, -4): -3.411636117385805e-17,\n (4, -3): 5.924982596406096e-18,\n (4, -2): -2.371496144491505e-18,\n (4, -1): -1.0149728114287045e-16,\n (4, 0): -1.1407574616900395e-18,\n (4, 1): 1.0254097963263848e-16,\n (4, 2): -4.084696179487114e-18,\n (4, 3): -7.874792936278835e-18,\n (4, 4): -3.926900628135939e-17,\n (5, -5): -2.244670978586717e-16,\n (5, -4): 4.8662019470607265e-18,\n (5, -3): 3.219836390476634e-17,\n (5, -2): 3.103116720160715e-18,\n (5, -1): -4.787836793695988e-16,\n (5, 0): 3.303367412619571e-18,\n (5, 1): 4.510281037539698e-16,\n (5, 2): 4.159885340254697e-18,\n (5, 3): -3.8871510610118684e-17,\n (5, 4): 3.697468323591603e-18,\n (5, 5): 2.2902718265619896e-16,\n (6, -6): -3.1885357366017866e-16,\n (6, -5): -4.1430300943478284e-18,\n (6, -4): -3.907449032217405e-18,\n (6, -3): -3.115576870638351e-19,\n (6, -2): 3.6681491843946655e-18,\n (6, -1): 1.792194432260228e-16,\n (6, 0): -7.15949970301559e-18,\n (6, 1): -1.190568650200651e-16,\n (6, 2): 7.5384580506467e-18,\n (6, 3): -4.476618073698338e-18,\n (6, 4): -1.1421643914701687e-17,\n (6, 5): -1.5083767988522293e-17,\n (6, 6): -3.26614952797016e-16,\n (7, -7): 1.4416108104724786e-17,\n (7, -6): 9.068120329378357e-18,\n (7, -5): -6.251964407533582e-17,\n (7, -4): 1.987353997711705e-18,\n (7, -3): 2.6946508312457287e-17,\n (7, -2): 4.319581271902291e-18,\n (7, -1): -3.122502256758253e-16,\n (7, 0): 3.922287803490987e-19,\n (7, 1): 2.983724378680108e-16,\n (7, 2): 1.2843636549764865e-18,\n (7, 3): -2.7030596112980632e-17,\n (7, 4): -4.802343157933534e-18,\n (7, 5): 6.503471810409365e-17,\n (7, 6): 3.25030458565533e-18,\n (7, 7): -1.9933556300229117e-17,\n (8, -8): -3.4822004115064034e-17,\n (8, -7): 2.20025708032908e-18,\n (8, -6): -1.2691460763270005e-16,\n (8, -5): 9.236323623587494e-19,\n (8, -4): -2.4543783019960803e-18,\n (8, -3): 1.025624965114566e-18,\n (8, -2): -2.5646471462978945e-18,\n (8, -1): 1.527309920114076e-17,\n (8, 0): 3.6425802839120266e-18,\n (8, 1): -7.011232103599241e-17,\n (8, 2): -2.7303399389083922e-18,\n (8, 3): -4.416733786345589e-19,\n (8, 4): -3.3429716522045247e-18,\n (8, 5): -1.3963279669850542e-17,\n (8, 6): -1.2755423925114913e-16,\n (8, 7): -7.395531693573169e-19,\n (8, 8): -1.824503461013893e-17,\n (9, -9): -4.336778488474005e-16,\n (9, -8): 7.109568520810251e-18,\n (9, -7): -1.014556779723852e-18,\n (9, -6): -2.026084922431696e-18,\n (9, -5): -3.396945921293682e-17,\n (9, -4): -2.5219077630966336e-19,\n (9, -3): 1.4878549695116156e-17,\n (9, -2): -4.589654954273203e-19,\n (9, -1): 9.020562075079397e-17,\n (9, 0): 1.7032644409005178e-18,\n (9, 1): -4.85722573273506e-17,\n (9, 2): -9.813908194968623e-18,\n (9, 3): -8.696127822799407e-18,\n (9, 4): -2.1088364225491408e-18,\n (9, 5): 3.784225388021894e-17,\n (9, 6): -1.3049717937104863e-18,\n (9, 7): -4.6601746391039366e-18,\n (9, 8): 6.2583158894357145e-18,\n (9, 9): 4.334883912151684e-16,\n (10, -10): 1.9251213543917e-16,\n (10, -9): -6.385228899563932e-18,\n (10, -8): -1.3822455256425123e-17,\n (10, -7): 7.269112767641662e-19,\n (10, -6): -7.469878041406538e-17,\n (10, -5): -4.218487301408095e-18,\n (10, -4): -4.2361575753503464e-18,\n (10, -3): -2.1573777475091307e-18,\n (10, -2): -4.399165695936772e-18,\n (10, -1): -1.850706318671349e-16,\n (10, 0): 5.792076297110481e-18,\n (10, 1): 1.7747084051846428e-16,\n (10, 2): -1.5800099463630721e-18,\n (10, 3): -2.2309323928105144e-19,\n (10, 4): -2.118429038144034e-18,\n (10, 5): 4.0507668947585096e-18,\n (10, 6): -8.23422747922126e-17,\n (10, 7): -2.7258822552538183e-18,\n (10, 8): -6.540238777406768e-18,\n (10, 9): 4.64827230173669e-18,\n (10, 10): 1.918824930623795e-16,\n (11, -11): -2.953042592565201e-17,\n (11, -10): -5.181228386055842e-18,\n (11, -9): -1.9832829072069856e-16,\n (11, -8): -8.073769370237675e-18,\n (11, -7): 6.934573583811282e-18,\n (11, -6): 1.5260908589185981e-18,\n (11, -5): -2.7099191952039764e-17,\n (11, -4): -9.568614881814452e-19,\n (11, -3): 1.2664428067533549e-17,\n (11, -2): -7.086094219234515e-18,\n (11, -1): 7.025630077706069e-16,\n (11, 0): 2.6876242784349616e-18,\n (11, 1): -7.147060721024445e-16,\n (11, 2): -2.5967062974226963e-19,\n (11, 3): -9.408326090105137e-18,\n (11, 4): -1.4677169912318001e-19,\n (11, 5): 3.030091954502796e-17,\n (11, 6): 2.0330844656704893e-19,\n (11, 7): 4.9421991328674774e-18,\n (11, 8): -8.009443098708129e-18,\n (11, 9): 1.9594696788609028e-16,\n (11, 10): 5.944282691054566e-18,\n (11, 11): 1.9927462809242373e-17,\n (12, -12): 2.9474307422001947e-16,\n (12, -11): -4.3380767188406316e-18,\n (12, -10): 8.087012634872701e-17,\n (12, -9): -3.9717691169675684e-18,\n (12, -8): -1.1753756101166846e-17,\n (12, -7): 7.121628471116895e-18,\n (12, -6): -4.322074559430947e-17,\n (12, -5): -3.4203451672181535e-18,\n (12, -4): -4.435106540624936e-18,\n (12, -3): 1.2336501975349158e-18,\n (12, -2): -8.935561522270528e-18,\n (12, -1): 6.576617942517941e-17,\n (12, 0): -1.1400510405617684e-19,\n (12, 1): -1.3168267818840047e-16,\n (12, 2): -7.20925082318932e-18,\n (12, 3): -2.2635786442730585e-18,\n (12, 4): -7.216836704120512e-18,\n (12, 5): 1.747155406565285e-18,\n (12, 6): -4.467246552149979e-17,\n (12, 7): -1.9941332666495646e-18,\n (12, 8): -1.3701418292059017e-17,\n (12, 9): 4.6983385674133154e-18,\n (12, 10): 8.214677212618463e-17,\n (12, 11): 2.140181036427085e-18,\n (12, 12): 2.853004987389554e-16,\n (13, -13): -1.7192097072544528e-16,\n (13, -12): -2.3528717327461024e-18,\n (13, -11): -8.056916902785934e-18,\n (13, -10): 1.753508417595564e-18,\n (13, -9): -1.215050330570838e-16,\n (13, -8): 4.7338614062933996e-18,\n (13, -7): 4.185562013693564e-18,\n (13, -6): -2.113006993030426e-18,\n (13, -5): 6.575410991602753e-19,\n (13, -4): 1.0025823480443302e-18,\n (13, -3): 1.3791959575373508e-17,\n (13, -2): 1.116646582825766e-20,\n (13, -1): 3.0335976786144414e-16,\n (13, 0): -7.738355101225296e-20,\n (13, 1): -3.2829641782861074e-16,\n (13, 2): -1.3738469532068218e-18,\n (13, 3): -1.688250509165458e-17,\n (13, 4): -7.276154236439829e-20,\n (13, 5): 9.22760405380999e-18,\n (13, 6): -6.889688525355602e-18,\n (13, 7): 1.0641816838450176e-18,\n (13, 8): 1.46077101819921e-17,\n (13, 9): 1.1895203267842773e-16,\n (13, 10): 1.994777477458374e-18,\n (13, 11): 8.174355722151597e-19,\n (13, 12): 4.655376173161948e-19,\n (13, 13): 1.653472115893663e-16,\n (14, -14): 2.8034607531880963e-16,\n (14, -13): 3.0910535188393636e-18,\n (14, -12): 1.5176682370775986e-16,\n (14, -11): 1.0019312747471396e-17,\n (14, -10): 5.963605556890156e-17,\n (14, -9): -1.3885945762958188e-19,\n (14, -8): -5.8308248130555755e-18,\n (14, -7): -1.2725957293092591e-18,\n (14, -6): -5.0880331301013936e-17,\n (14, -5): 2.7064440215612624e-18,\n (14, -4): 2.833155292696181e-20,\n (14, -3): 1.1618326097108175e-18,\n (14, -2): 1.7779589665323844e-18,\n (14, -1): -2.408161242315902e-16,\n (14, 0): -7.562884490765832e-18,\n (14, 1): 2.4811883478850904e-16,\n (14, 2): 3.3917510389256754e-18,\n (14, 3): -2.353364181770331e-18,\n (14, 4): 3.3513125652978055e-18,\n (14, 5): -3.9446207831615724e-18,\n (14, 6): -3.5464708764699786e-17,\n (14, 7): 1.5495162500956418e-18,\n (14, 8): -6.496496037797477e-18,\n (14, 9): -2.2700181788657646e-19,\n (14, 10): 5.45885756540336e-17,\n (14, 11): -7.05868515823732e-18,\n (14, 12): 1.531823464589221e-16,\n (14, 13): 3.9391466689763006e-18,\n (14, 14): 2.8015440539947475e-16,\n (15, -15): 1.3924696134480693e-16,\n (15, -14): 1.3994977506763432e-17,\n (15, -13): -1.0766185637977222e-16,\n (15, -12): -1.9470850357061447e-18,\n (15, -11): -3.491763023728366e-18,\n (15, -10): 5.6323471366974606e-18,\n (15, -9): -8.797835372427922e-17,\n (15, -8): 5.909627775139926e-18,\n (15, -7): -5.929813989465874e-18,\n (15, -6): 1.7623901504938956e-18,\n (15, -5): -2.3629429294997788e-18,\n (15, -4): 1.7746029829250813e-18,\n (15, -3): -2.2274043567977936e-18,\n (15, -2): 1.9836929112849545e-18,\n (15, -1): -5.368969158148218e-16,\n (15, 0): 5.734908971242436e-19,\n (15, 1): 5.143455106271233e-16,\n (15, 2): 2.911196320249516e-18,\n (15, 3): -3.7314529725501045e-18,\n (15, 4): 9.448726762090497e-19,\n (15, 5): -3.1094095271738005e-18,\n (15, 6): -1.382967489326606e-18,\n (15, 7): -1.5311812253069206e-18,\n (15, 8): 1.7861662812612077e-18,\n (15, 9): 9.217293470256677e-17,\n (15, 10): -3.2991968723025016e-18,\n (15, 11): 3.147725672019263e-18,\n (15, 12): -7.94485427285582e-18,\n (15, 13): 1.0286218784635052e-16,\n (15, 14): 1.2876305454157628e-17,\n (15, 15): -1.338029420448698e-16,\n (16, -16): -2.9155311042561167e-16,\n (16, -15): 7.263467354253297e-18,\n (16, -14): 1.3546622869673865e-16,\n (16, -13): -2.126768679684682e-18,\n (16, -12): 9.417268594231001e-17,\n (16, -11): -8.942298306084677e-19,\n (16, -10): 3.7743909703473555e-17,\n (16, -9): -4.237115925255811e-18,\n (16, -8): 1.2399264560359644e-19,\n (16, -7): 1.326190879280778e-18,\n (16, -6): -1.8864161284987013e-17,\n (16, -5): 1.171396132502027e-17,\n (16, -4): -3.1377562740663173e-19,\n (16, -3): -1.2808071162894552e-18,\n (16, -2): -3.666752661989393e-19,\n (16, -1): 1.2867136818518664e-16,\n (16, 0): -6.469769857570761e-18,\n (16, 1): -1.5943924779389843e-16,\n (16, 2): -9.257144473559544e-19,\n (16, 3): -5.404370583620266e-19,\n (16, 4): 3.9938274227660176e-18,\n (16, 5): -6.440772814231013e-18,\n (16, 6): -1.4104180167473515e-17,\n (16, 7): -3.868539727448984e-18,\n (16, 8): 7.902763076661628e-19,\n (16, 9): 4.453005520194272e-18,\n (16, 10): 3.88846353584467e-17,\n (16, 11): 1.2048259281111823e-20,\n (16, 12): 1.0776284594691347e-16,\n (16, 13): -3.2195729869257732e-18,\n (16, 14): 1.5050452497519223e-16,\n (16, 15): -6.7969953965211815e-18,\n (16, 16): -2.9073013425499805e-16,\n (17, -17): 4.331562192723436e-16,\n (17, -16): 6.545030402263302e-18,\n (17, -15): 7.756069096692199e-17,\n (17, -14): -3.004514297056075e-18,\n (17, -13): -7.262157373503592e-17,\n (17, -12): 5.541732147823286e-18,\n (17, -11): -1.6820232104843952e-17,\n (17, -10): 4.2685482756203695e-19,\n (17, -9): -5.34425315401784e-17,\n (17, -8): 4.687418971730982e-18,\n (17, -7): 2.4975697556197013e-18,\n (17, -6): -8.6692721395482775e-19,\n (17, -5): -1.855197297428396e-17,\n (17, -4): -1.8516721502002555e-18,\n (17, -3): 4.096043528808538e-18,\n (17, -2): 1.6839122880982931e-18,\n (17, -1): 4.714111045966973e-16,\n (17, 0): 6.885552260185697e-18,\n (17, 1): -4.644722106927901e-16,\n (17, 2): -1.9565233761837308e-18,\n (17, 3): 4.1124748653536494e-18,\n (17, 4): -3.609526084501018e-18,\n (17, 5): 7.736327831151777e-18,\n (17, 6): 3.2154472864345697e-19,\n (17, 7): -2.5620802709609125e-18,\n (17, 8): -6.27826855335431e-19,\n (17, 9): 5.736260404794313e-17,\n (17, 10): 2.0577307116632804e-18,\n (17, 11): 2.0156799160745527e-17,\n (17, 12): 4.080157535392053e-18,\n (17, 13): 7.521180393515352e-17,\n (17, 14): 6.068065612137624e-18,\n (17, 15): -6.943339850109694e-17,\n (17, 16): 4.844513011952896e-19,\n (17, 17): -4.294414516675506e-16,\n (18, -18): -7.217789436094202e-16,\n (18, -17): 7.450622391628876e-18,\n (18, -16): -1.6190188493614293e-16,\n (18, -15): -5.521532599198943e-19,\n (18, -14): 1.043790619835042e-16,\n (18, -13): -4.73970708348717e-18,\n (18, -12): 7.022600954231742e-17,\n (18, -11): 4.098463181928758e-18,\n (18, -10): 2.3091404387779244e-17,\n (18, -9): -4.420507151010983e-18,\n (18, -8): -6.4029726893192595e-18,\n (18, -7): -3.9025405690127345e-18,\n (18, -6): 1.9119805526464453e-16,\n (18, -5): 3.358282448579346e-18,\n (18, -4): -2.2695127924503017e-18,\n (18, -3): 4.1563660814378596e-19,\n (18, -2): 3.203826972905055e-18,\n (18, -1): 1.775013814910303e-16,\n (18, 0): -3.1889348848712335e-18,\n (18, 1): -1.4888529170223133e-16,\n (18, 2): 7.939209424252034e-20,\n (18, 3): -5.105485104574946e-18,\n (18, 4): 4.8611903885656495e-19,\n (18, 5): -3.506650465624738e-18,\n (18, 6): -1.3138976163141108e-17,\n (18, 7): 8.665510618854817e-18,\n (18, 8): -6.012959885344133e-18,\n (18, 9): 1.3163338411988031e-18,\n (18, 10): 3.172460550236646e-17,\n (18, 11): 2.2567003252713873e-18,\n (18, 12): 7.446523479607043e-17,\n (18, 13): 4.4304680109242404e-18,\n (18, 14): 1.1257348251653875e-16,\n (18, 15): 2.751376119638866e-18,\n (18, 16): -1.5666120038039149e-16,\n (18, 17): -7.487978990473794e-18,\n (18, 18): -7.064530166244653e-16,\n (19, -19): -1.3012113536241394e-16,\n (19, -18): 2.081603478092112e-18,\n (19, -17): 2.302250398222402e-16,\n (19, -16): -9.140023098982184e-18,\n (19, -15): 6.133028722945706e-17,\n (19, -14): 8.153632683321025e-18,\n (19, -13): -4.548099097015955e-17,\n (19, -12): 4.270558127475427e-18,\n (19, -11): 9.319875195993879e-18,\n (19, -10): -8.778591090034584e-19,\n (19, -9): -5.173444507388164e-17,\n (19, -8): 1.6130971217077853e-18,\n (19, -7): -2.969288201952823e-18,\n (19, -6): 2.7420393451813112e-18,\n (19, -5): -2.551632968339173e-18,\n (19, -4): 2.9891409997687017e-18,\n (19, -3): 9.17776128636012e-18,\n (19, -2): -1.9947877850785642e-18,\n (19, -1): -4.839878497975292e-16,\n (19, 0): -2.7007027692686714e-18,\n (19, 1): 4.631711680858075e-16,\n (19, 2): -4.364247535685423e-19,\n (19, 3): -1.0373430217548728e-17,\n (19, 4): 5.1866616844267886e-18,\n (19, 5): 5.543765192800666e-19,\n (19, 6): 4.087143846207835e-18,\n (19, 7): 6.620575880245633e-18,\n (19, 8): 1.8856783060143833e-18,\n (19, 9): 4.9074216434129084e-17,\n (19, 10): 9.821119182862502e-19,\n (19, 11): 3.953323421535291e-18,\n (19, 12): 4.28562811695643e-18,\n (19, 13): 4.1800344639975816e-17,\n (19, 14): 8.706741066557816e-18,\n (19, 15): -4.2740940957882615e-17,\n (19, 16): -4.827613665093203e-18,\n (19, 17): -2.304105582570134e-16,\n (19, 18): -3.131029879545279e-18,\n (19, 19): 1.3196500624764899e-16,\n (20, -20): 1.0254823867711491e-15,\n (20, -19): 4.344380297665689e-18,\n (20, -18): -4.019245188225351e-16,\n (20, -17): 8.574935095476715e-18,\n (20, -16): -1.0678306883824013e-16,\n (20, -15): -4.3759123091316404e-20,\n (20, -14): 8.677126311571409e-17,\n (20, -13): -1.0341202157941413e-18,\n (20, -12): 5.3950654275794985e-17,\n (20, -11): 1.2076859692553776e-17,\n (20, -10): 1.9908508926249223e-17,\n (20, -9): -7.27211268652108e-18,\n (20, -8): -1.3327025395325543e-17,\n (20, -7): -9.284392660561442e-18,\n (20, -6): -7.615245294475447e-18,\n (20, -5): 3.331395064918339e-19,\n (20, -4): 2.340265085225509e-19,\n (20, -3): -1.7434252558261903e-18,\n (20, -2): 5.5929706023370224e-18,\n (20, -1): -2.7401959782140425e-16,\n (20, 0): 1.8223153289606566e-18,\n (20, 1): 2.9674498977112616e-16,\n (20, 2): 4.628621385743757e-18,\n (20, 3): -3.724710487570326e-18,\n (20, 4): -1.2061722686239724e-18,\n (20, 5): -2.5267390850903926e-18,\n (20, 6): -8.551737847429524e-18,\n (20, 7): 1.2445037043306809e-17,\n (20, 8): -9.31856641936688e-18,\n (20, 9): 8.137910842679813e-18,\n (20, 10): 2.0819837191065704e-17,\n (20, 11): -1.6363562022628248e-18,\n (20, 12): 5.055856757617788e-17,\n (20, 13): 5.010185936446633e-18,\n (20, 14): 8.481836420560804e-17,\n (20, 15): 5.66883113957394e-19,\n (20, 16): -1.0591137467456001e-16,\n (20, 17): -9.557535636866728e-18,\n (20, 18): -3.942732195820476e-16,\n (20, 19): -5.321612450548966e-18,\n (20, 20): 1.0267268166334724e-15}"
     },
     "execution_count": 2,
     "metadata": {},
     "output_type": "execute_result"
    }
   ],
   "source": [
    "import numpy as np\n",
    "import scipy.integrate as integrate\n",
    "import scipy.special as special\n",
    "\n",
    "integration_options = {'epsabs': 1.49e-12, 'epsrel': 1.49e-12}\n",
    "# Function to be expanded in terms of theta and phi\n",
    "def function_spherical(theta, phi):\n",
    "    #return (np.sin(theta) ** 3 * np.cos(phi) ** 3) / np.exp(np.sin(theta) * np.sin(phi))\n",
    "    return np.sin(theta)*np.cos(phi)\n",
    "\n",
    "\n",
    "# Spherical harmonics expansion coefficients\n",
    "def spherical_harmonic_coeff(l, m, func):\n",
    "    def integrand(phi, theta):\n",
    "        # Spherical harmonic Y_lm(theta, phi)\n",
    "        Y_lm = special.sph_harm(m, l, phi, theta)\n",
    "        return func(theta, phi) * np.conj(Y_lm) * np.sin(theta)\n",
    "\n",
    "    # Integration over theta [0, pi] and phi [0, 2*pi]\n",
    "    return integrate.nquad(integrand, [[0, np.pi], [0, 2 * np.pi]], opts=[integration_options, integration_options])[0]\n",
    "\n",
    "\n",
    "# Range of l and m for the expansion\n",
    "l_max = 20\n",
    "\n",
    "# Calculate coefficients\n",
    "coefficients_spherical = {}\n",
    "for l in range(l_max + 1):\n",
    "    for m in range(-l, l + 1):\n",
    "        coeff = spherical_harmonic_coeff(l, m, function_spherical)\n",
    "\n",
    "        coefficients_spherical[(l, m)] = coeff\n",
    "\n",
    "coefficients_spherical\n",
    "\n"
   ],
   "metadata": {
    "collapsed": false,
    "ExecuteTime": {
     "end_time": "2024-01-24T12:39:01.232632800Z",
     "start_time": "2024-01-24T12:38:54.719523200Z"
    }
   },
   "id": "5d217bf2799751b5"
  },
  {
   "cell_type": "markdown",
   "source": [
    "# Approximation"
   ],
   "metadata": {
    "collapsed": false
   },
   "id": "e60510e2ce668945"
  },
  {
   "cell_type": "code",
   "execution_count": 3,
   "outputs": [],
   "source": [
    "# Function to compute the spherical harmonics approximation\n",
    "def spherical_harmonics_approx(theta, phi, coefficients, l_max):\n",
    "    approx = np.zeros(theta.shape, dtype=complex)\n",
    "    for l in range(l_max + 1):\n",
    "        for m in range(-l, l + 1):\n",
    "            if (l, m) in coefficients:\n",
    "                approx += coefficients[(l, m)] * special.sph_harm(m, l, phi, theta)\n",
    "    return approx\n",
    "\n",
    "\n",
    "# Generate a meshgrid for theta and phi\n",
    "theta_mesh, phi_mesh = np.meshgrid(np.linspace(0, np.pi, 100), np.linspace(0, 2 * np.pi, 100))\n",
    "\n",
    "# Evaluate the original function and the approximation on the meshgrid\n",
    "original_values = function_spherical(theta_mesh, phi_mesh)\n",
    "approximation_values = spherical_harmonics_approx(theta_mesh, phi_mesh, coefficients_spherical, l_max)\n"
   ],
   "metadata": {
    "collapsed": false,
    "ExecuteTime": {
     "end_time": "2024-01-24T12:39:14.058123500Z",
     "start_time": "2024-01-24T12:39:12.955812300Z"
    }
   },
   "id": "61ae2ce0a6f593a6"
  },
  {
   "cell_type": "markdown",
   "source": [
    "# Plot shape difference"
   ],
   "metadata": {
    "collapsed": false
   },
   "id": "e2c70f5aa92779"
  },
  {
   "cell_type": "code",
   "execution_count": 6,
   "outputs": [],
   "source": [
    "%matplotlib qt\n",
    "import matplotlib.pyplot as plt\n",
    "from mpl_toolkits.mplot3d import Axes3D\n",
    "\n",
    "# Convert to Cartesian coordinates for plotting\n",
    "x_original = np.sin(theta_mesh) * np.cos(phi_mesh) * original_values.real\n",
    "y_original = np.sin(theta_mesh) * np.sin(phi_mesh) * original_values.real\n",
    "z_original = np.cos(theta_mesh) * original_values.real\n",
    "\n",
    "x_approx = np.sin(theta_mesh) * np.cos(phi_mesh) * approximation_values.real\n",
    "y_approx = np.sin(theta_mesh) * np.sin(phi_mesh) * approximation_values.real\n",
    "z_approx = np.cos(theta_mesh) * approximation_values.real\n",
    "\n",
    "# Create plots\n",
    "fig = plt.figure(figsize=(12, 6))\n",
    "\n",
    "# Original function\n",
    "ax1 = fig.add_subplot(121, projection='3d')\n",
    "ax1.plot_surface(x_original, y_original, z_original, cmap='viridis')\n",
    "ax1.set_title('Original Function')\n",
    "ax1.set_xlabel('X')\n",
    "ax1.set_ylabel('Y')\n",
    "ax1.set_zlabel('Z')\n",
    "\n",
    "# Spherical harmonics approximation\n",
    "ax2 = fig.add_subplot(122, projection='3d')\n",
    "ax2.plot_surface(x_approx, y_approx, z_approx, cmap='viridis')\n",
    "ax2.set_title('Spherical Harmonics Approximation')\n",
    "ax2.set_xlabel('X')\n",
    "ax2.set_ylabel('Y')\n",
    "ax2.set_zlabel('Z')\n",
    "\n",
    "plt.show()\n",
    "\n"
   ],
   "metadata": {
    "collapsed": false,
    "ExecuteTime": {
     "end_time": "2024-01-24T12:39:23.434186600Z",
     "start_time": "2024-01-24T12:39:23.145944200Z"
    }
   },
   "id": "a2cf36425d2b49d"
  },
  {
   "cell_type": "markdown",
   "source": [
    "# Plot color difference"
   ],
   "metadata": {
    "collapsed": false
   },
   "id": "35857bd274148d3"
  },
  {
   "cell_type": "code",
   "execution_count": 7,
   "outputs": [],
   "source": [
    "%matplotlib qt\n",
    "\n",
    "#%matplotlib inline\n",
    "# Function to plot a function on the surface of a sphere using color\n",
    "def plot_function_on_sphere(ax, theta, phi, values, title):\n",
    "    # Convert to Cartesian coordinates for plotting\n",
    "    x = np.sin(theta) * np.cos(phi)\n",
    "    y = np.sin(theta) * np.sin(phi)\n",
    "    z = np.cos(theta)\n",
    "\n",
    "    # \n",
    "    # x = abs(values) * np.sin(theta) * np.cos(phi)\n",
    "    # y = abs(values) * np.sin(theta) * np.sin(phi)\n",
    "    # z = abs(values) * np.cos(theta)\n",
    "\n",
    "    # x = values * np.sin(theta) * np.cos(phi)\n",
    "    # y = values * np.sin(theta) * np.sin(phi)\n",
    "    # z = values * np.cos(theta)\n",
    "\n",
    "    # Plot the function values as colors on the sphere\n",
    "    ax.plot_surface(x, y, z, facecolors=plt.cm.viridis(values), rstride=1, cstride=1)\n",
    "    ax.set_title(title)\n",
    "    ax.set_xlabel('X')\n",
    "    ax.set_ylabel('Y')\n",
    "    ax.set_zlabel('Z')\n",
    "\n",
    "\n",
    "# Create plots\n",
    "fig = plt.figure(figsize=(12, 6))\n",
    "\n",
    "# Original function\n",
    "ax1 = fig.add_subplot(121, projection='3d')\n",
    "plot_function_on_sphere(ax1, theta_mesh, phi_mesh, original_values.real, 'Original Function')\n",
    "\n",
    "# Spherical harmonics approximation\n",
    "ax2 = fig.add_subplot(122, projection='3d')\n",
    "plot_function_on_sphere(ax2, theta_mesh, phi_mesh, approximation_values.real, 'Spherical Harmonics Approximation')\n",
    "\n",
    "plt.show()\n",
    "\n"
   ],
   "metadata": {
    "collapsed": false,
    "ExecuteTime": {
     "end_time": "2024-01-24T12:39:47.901876Z",
     "start_time": "2024-01-24T12:39:47.232863200Z"
    }
   },
   "id": "aab70f3e2e36538"
  },
  {
   "cell_type": "markdown",
   "source": [
    "# alternative visualization"
   ],
   "metadata": {
    "collapsed": false
   },
   "id": "5fcd660360828ae8"
  },
  {
   "cell_type": "code",
   "execution_count": 13,
   "outputs": [
    {
     "name": "stdout",
     "output_type": "stream",
     "text": [
      "diff: 6.344325236563845e-16 5.213238532808549e-16\n",
      "original: 0.006302006849910219 0.49993528052105274\n"
     ]
    }
   ],
   "source": [
    "# Function to plot a function on the surface of a sphere using different color maps\n",
    "def plot_function_with_different_colormaps(ax, theta, phi, values, title, colormap):\n",
    "    x = np.sin(theta) * np.cos(phi)\n",
    "    y = np.sin(theta) * np.sin(phi)\n",
    "    z = np.cos(theta)\n",
    "    ax.plot_surface(x, y, z, facecolors=colormap(values), rstride=1, cstride=1)\n",
    "    ax.set_title(title)\n",
    "    ax.set_xlabel('X')\n",
    "    ax.set_ylabel('Y')\n",
    "    ax.set_zlabel('Z')\n",
    "\n",
    "\n",
    "# Function to plot the absolute difference between the original function and its approximation\n",
    "def plot_difference_on_sphere(ax, theta, phi, original_values, approximation_values, title, colormap):\n",
    "    difference = np.abs(original_values - approximation_values)\n",
    "    print(\"diff:\",difference.mean(), difference.std())\n",
    "    print(\"original:\", original_values.mean(), original_values.std())\n",
    "    x = np.sin(theta) * np.cos(phi)\n",
    "    y = np.sin(theta) * np.sin(phi)\n",
    "    z = np.cos(theta)\n",
    "    ax.plot_surface(x, y, z, facecolors=colormap(difference), rstride=1, cstride=1)\n",
    "    ax.set_title(title)\n",
    "    ax.set_xlabel('X')\n",
    "    ax.set_ylabel('Y')\n",
    "    ax.set_zlabel('Z')\n",
    "\n",
    "# def plot_difference_on_sphere(ax, theta, phi, original_values, approximation_values, title, colormap):\n",
    "#     # Change to signed difference if desired\n",
    "#     difference = original_values - approximation_values\n",
    "# \n",
    "#     # Normalize the difference for better visualization\n",
    "#     norm_difference = (difference - np.min(difference)) / (np.max(difference) - np.min(difference))\n",
    "# \n",
    "#     x = np.sin(theta) * np.cos(phi)\n",
    "#     y = np.sin(theta) * np.sin(phi)\n",
    "#     z = np.cos(theta)\n",
    "#     ax.plot_surface(x, y, z, facecolors=colormap(norm_difference), rstride=1, cstride=1)\n",
    "#     ax.set_title(title)\n",
    "#     ax.set_xlabel('X')\n",
    "#     ax.set_ylabel('Y')\n",
    "#     ax.set_zlabel('Z')\n",
    "\n",
    "\n",
    "# Create plots with different color maps\n",
    "fig, axs = plt.subplots(2, 2, subplot_kw={'projection': '3d'}, figsize=(12, 12))\n",
    "\n",
    "plot_function_with_different_colormaps(axs[0, 1], theta_mesh, phi_mesh, original_values.real, 'Original (Coolwarm)',\n",
    "                                       plt.cm.coolwarm)\n",
    "\n",
    "# Spherical harmonics approximation with coolwarm colormap\n",
    "plot_function_with_different_colormaps(axs[0, 0], theta_mesh, phi_mesh, approximation_values.real,\n",
    "                                       'Approximation (Coolwarm)', plt.cm.coolwarm)\n",
    "\n",
    "# Difference plot\n",
    "plot_difference_on_sphere(axs[1, 0], theta_mesh, phi_mesh, original_values, approximation_values,\n",
    "                          'Difference Between Original and Approximation', plt.cm.coolwarm)\n",
    "\n",
    "# Hide the last subplot (for symmetry)\n",
    "axs[1, 1].axis('off')\n",
    "\n",
    "plt.tight_layout()\n",
    "plt.show()\n"
   ],
   "metadata": {
    "collapsed": false,
    "ExecuteTime": {
     "end_time": "2024-01-24T12:51:02.711099900Z",
     "start_time": "2024-01-24T12:51:00.702577500Z"
    }
   },
   "id": "532324828f94a49b"
  },
  {
   "cell_type": "markdown",
   "source": [
    "# Ugly function expansion using SHtools"
   ],
   "metadata": {
    "collapsed": false
   },
   "id": "60228c748d0d799b"
  },
  {
   "cell_type": "code",
   "execution_count": null,
   "outputs": [],
   "source": [
    "import numpy as np\n",
    "import pyshtools\n",
    "\n",
    "\n",
    "# Step 1: Define the function on a grid over the sphere\n",
    "def func(theta, phi):\n",
    "    return (np.sin(theta) ** 3 * np.cos(phi) ** 3) / np.exp(np.sin(theta) * np.sin(phi))\n",
    "\n",
    "\n",
    "# Define the grid parameters\n",
    "lmax = 15  # Maximum degree of spherical harmonics\n",
    "theta = np.linspace(0, np.pi, 2 * lmax + 1)  # Colatitude\n",
    "phi = np.linspace(0, 2 * np.pi, 2 * lmax + 1)  # Longitude\n",
    "theta, phi = np.meshgrid(theta, phi)\n",
    "\n",
    "# Evaluate the function on the grid\n",
    "f_grid = func(theta, phi)\n",
    "\n",
    "# Step 2: Expand the grid into spherical harmonics coefficients\n",
    "coeffs = pyshtools.expand.SHExpandDH(f_grid, sampling=2)\n",
    "\n",
    "# Step 3 (optional): Reconstruct the function from these coefficients\n",
    "f_reconstructed = pyshtools.expand.MakeGridDH(coeffs, sampling=2)\n",
    "\n",
    "coeffs.shape, f_reconstructed.shape  # Display the shape of the coefficients and the reconstructed function\n",
    "\n"
   ],
   "metadata": {
    "collapsed": false
   },
   "id": "83891b94a5c81b4b"
  }
 ],
 "metadata": {
  "kernelspec": {
   "display_name": "Python 3",
   "language": "python",
   "name": "python3"
  },
  "language_info": {
   "codemirror_mode": {
    "name": "ipython",
    "version": 2
   },
   "file_extension": ".py",
   "mimetype": "text/x-python",
   "name": "python",
   "nbconvert_exporter": "python",
   "pygments_lexer": "ipython2",
   "version": "2.7.6"
  }
 },
 "nbformat": 4,
 "nbformat_minor": 5
}
