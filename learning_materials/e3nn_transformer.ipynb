{
 "cells": [
  {
   "cell_type": "code",
   "execution_count": 2,
   "id": "initial_id",
   "metadata": {
    "collapsed": true,
    "ExecuteTime": {
     "end_time": "2024-01-30T08:32:38.686821500Z",
     "start_time": "2024-01-30T08:32:32.188616Z"
    }
   },
   "outputs": [],
   "source": [
    "import torch\n",
    "from torch_cluster import radius_graph\n",
    "from torch_scatter import scatter\n",
    "from e3nn import o3, nn\n",
    "from e3nn.math import soft_one_hot_linspace, soft_unit_step\n",
    "import matplotlib.pyplot as plt"
   ]
  },
  {
   "cell_type": "markdown",
   "source": [
    "## Define irreps"
   ],
   "metadata": {
    "collapsed": false
   },
   "id": "59c7e64c0071d4c5"
  },
  {
   "cell_type": "code",
   "execution_count": 3,
   "outputs": [],
   "source": [
    "# Just define arbitrary irreps\n",
    "irreps_input = o3.Irreps(\"10x0e + 5x1o + 2x2e\")\n",
    "irreps_query = o3.Irreps(\"11x0e + 4x1o\")\n",
    "irreps_key = o3.Irreps(\"12x0e + 3x1o\")\n",
    "irreps_output = o3.Irreps(\"14x0e + 6x1o\")  # also irreps of the values\n",
    "irreps_values = o3.Irreps(\"14x0e + 6x1o\")  # also irreps of the values\n",
    "\n",
    "num_nodes = 20\n",
    "\n",
    "pos = torch.randn(num_nodes, 3)\n",
    "# node values (features like mass, charge,...)\n",
    "f = irreps_input.randn(num_nodes, -1)\n",
    "\n",
    "# create graph\n",
    "max_radius = 1.3\n",
    "edge_src, edge_dst = radius_graph(pos, max_radius)\n",
    "edge_vec = pos[edge_src] - pos[edge_dst]\n",
    "# edge_vec is relative distance vector (edge feature)\n",
    "edge_length = edge_vec.norm(dim=1)"
   ],
   "metadata": {
    "collapsed": false
   },
   "id": "3207e40d2c198ffd"
  },
  {
   "cell_type": "markdown",
   "source": [
    "## embedding of relative features (edges)"
   ],
   "metadata": {
    "collapsed": false
   },
   "id": "fe897c566f73d3c8"
  },
  {
   "cell_type": "code",
   "execution_count": 7,
   "outputs": [
    {
     "data": {
      "text/plain": "<matplotlib.collections.PathCollection at 0x1533f1e4520>"
     },
     "execution_count": 7,
     "metadata": {},
     "output_type": "execute_result"
    },
    {
     "data": {
      "text/plain": "<Figure size 640x480 with 1 Axes>",
      "image/png": "[encoded data removed]"
     },
     "metadata": {},
     "output_type": "display_data"
    }
   ],
   "source": [
    "number_of_basis = 10\n",
    "edge_length_embedded = soft_one_hot_linspace(\n",
    "    edge_length,\n",
    "    start=0.0,\n",
    "    end=max_radius,\n",
    "    number=number_of_basis,\n",
    "    basis='smooth_finite',\n",
    "    cutoff=True  # goes (smoothly) to zero at `start` and `end`\n",
    ")\n",
    "edge_length_embedded = edge_length_embedded.mul(number_of_basis**0.5)\n",
    "edge_weight_cutoff = soft_unit_step(10 * (1 - edge_length / max_radius))\n",
    "plt.scatter(edge_vec.norm(dim=1), edge_weight_cutoff)"
   ],
   "metadata": {
    "collapsed": false,
    "ExecuteTime": {
     "end_time": "2024-01-30T08:32:39.122845900Z",
     "start_time": "2024-01-30T08:32:38.921634600Z"
    }
   },
   "id": "da761b52806360e9"
  },
  {
   "cell_type": "markdown",
   "source": [],
   "metadata": {
    "collapsed": false
   },
   "id": "65eed86b07daa58c"
  },
  {
   "cell_type": "markdown",
   "source": [
    "## We will enrich the edge features with spherical harmonics"
   ],
   "metadata": {
    "collapsed": false
   },
   "id": "2209f92ac0252964"
  },
  {
   "cell_type": "code",
   "execution_count": 1,
   "outputs": [
    {
     "ename": "NameError",
     "evalue": "name 'o3' is not defined",
     "output_type": "error",
     "traceback": [
      "\u001B[1;31m---------------------------------------------------------------------------\u001B[0m",
      "\u001B[1;31mNameError\u001B[0m                                 Traceback (most recent call last)",
      "Cell \u001B[1;32mIn[1], line 1\u001B[0m\n\u001B[1;32m----> 1\u001B[0m irreps_sh \u001B[38;5;241m=\u001B[39m \u001B[43mo3\u001B[49m\u001B[38;5;241m.\u001B[39mIrreps\u001B[38;5;241m.\u001B[39mspherical_harmonics(\u001B[38;5;241m3\u001B[39m)\n\u001B[0;32m      2\u001B[0m edge_sh \u001B[38;5;241m=\u001B[39m o3\u001B[38;5;241m.\u001B[39mspherical_harmonics(irreps_sh, edge_vec, \u001B[38;5;28;01mTrue\u001B[39;00m, normalization\u001B[38;5;241m=\u001B[39m\u001B[38;5;124m'\u001B[39m\u001B[38;5;124mcomponent\u001B[39m\u001B[38;5;124m'\u001B[39m)\n",
      "\u001B[1;31mNameError\u001B[0m: name 'o3' is not defined"
     ]
    }
   ],
   "source": [
    "irreps_sh = o3.Irreps.spherical_harmonics(3)\n",
    "edge_sh = o3.spherical_harmonics(irreps_sh, edge_vec, True, normalization='component')\n",
    "tp_k = o3.FullyConnectedTensorProduct(irreps_input, irreps_sh, irreps_key, shared_weights=False)\n",
    "fc_k = nn.FullyConnectedNet([number_of_basis, 16, tp_k.weight_numel], act=torch.nn.functional.silu)\n",
    "\n",
    "tp_v = o3.FullyConnectedTensorProduct(irreps_input, irreps_sh, irreps_output, shared_weights=False)\n",
    "fc_v = nn.FullyConnectedNet([number_of_basis, 16, tp_v.weight_numel], act=torch.nn.functional.silu)\n",
    "dot = o3.FullyConnectedTensorProduct(irreps_query, irreps_key, \"0e\")"
   ],
   "metadata": {
    "collapsed": false,
    "ExecuteTime": {
     "end_time": "2024-02-06T08:24:00.908290900Z",
     "start_time": "2024-02-06T08:24:00.658887700Z"
    }
   },
   "id": "6b6deaf057e07a90"
  },
  {
   "cell_type": "code",
   "execution_count": 14,
   "outputs": [],
   "source": [
    "h_q = o3.Linear(irreps_input, irreps_query)"
   ],
   "metadata": {
    "collapsed": false,
    "ExecuteTime": {
     "end_time": "2024-01-30T10:29:16.519669600Z",
     "start_time": "2024-01-30T10:29:16.472503900Z"
    }
   },
   "id": "ad91cfbceecaacdb"
  },
  {
   "cell_type": "markdown",
   "source": [
    "## ATTENTION MECHANISM"
   ],
   "metadata": {
    "collapsed": false
   },
   "id": "1b877a7c3864c288"
  },
  {
   "cell_type": "code",
   "execution_count": 16,
   "outputs": [],
   "source": [
    "# compute the queries (per node), keys (per edge) and values (per edge)\n",
    "q = h_q(f)\n",
    "k = tp_k(f[edge_src], edge_sh, fc_k(edge_length_embedded))\n",
    "v = tp_v(f[edge_src], edge_sh, fc_v(edge_length_embedded))\n",
    "\n",
    "# compute the softmax (per edge)\n",
    "exp = edge_weight_cutoff[:, None] * dot(q[edge_dst], k).exp()  # compute the numerator\n",
    "z = scatter(exp, edge_dst, dim=0, dim_size=len(f))  # compute the denominator (per nodes)\n",
    "z[z == 0] = 1  # to avoid 0/0 when all the neighbors are exactly at the cutoff\n",
    "alpha = exp / z[edge_dst]   # normalization\n",
    "\n",
    "# compute the outputs (per node)\n",
    "f_out = scatter(alpha.relu().sqrt() * v, edge_dst, dim=0, dim_size=len(f))"
   ],
   "metadata": {
    "collapsed": false,
    "ExecuteTime": {
     "end_time": "2024-01-30T11:32:48.433176300Z",
     "start_time": "2024-01-30T11:32:48.398983600Z"
    }
   },
   "id": "de4cfc4d64f091de"
  }
 ],
 "metadata": {
  "kernelspec": {
   "display_name": "Python 3",
   "language": "python",
   "name": "python3"
  },
  "language_info": {
   "codemirror_mode": {
    "name": "ipython",
    "version": 2
   },
   "file_extension": ".py",
   "mimetype": "text/x-python",
   "name": "python",
   "nbconvert_exporter": "python",
   "pygments_lexer": "ipython2",
   "version": "2.7.6"
  }
 },
 "nbformat": 4,
 "nbformat_minor": 5
}
