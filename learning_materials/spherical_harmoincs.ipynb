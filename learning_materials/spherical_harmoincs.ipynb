{
 "cells": [
  {
   "cell_type": "markdown",
   "source": [
    "# Spherical Harmonics\n",
    "\n",
    "$$\n",
    "Y_{\\ell}^m(\\theta, \\phi) = \\sqrt{\\frac{(2\\ell + 1)(\\ell - m)!}{4\\pi (\\ell + m)!}} P_{\\ell}^m(\\cos \\theta) e^{im\\phi}\n",
    "$$\n",
    "\n",
    "<br>\n",
    "<div style=\"text-align: center\">\n",
    "    <img src=\"arts/real_sh.gif\" />\n",
    "</div>\n"
   ],
   "metadata": {
    "collapsed": false
   },
   "id": "f38568d7fcc9e9a8"
  },
  {
   "cell_type": "markdown",
   "source": [],
   "metadata": {
    "collapsed": false
   },
   "id": "9cb271c731eeab59"
  },
  {
   "cell_type": "code",
   "execution_count": null,
   "id": "initial_id",
   "metadata": {
    "collapsed": true,
    "is_executing": true
   },
   "outputs": [],
   "source": [
    "import math\n",
    "\n",
    "\n",
    "# Function to convert Cartesian to spherical coordinates\n",
    "def cartesian_to_spherical(x, y, z):\n",
    "    r = math.sqrt(x ** 2 + y ** 2 + z ** 2)\n",
    "    theta = math.atan2(y, x)  # azimuthal angle\n",
    "    phi = math.acos(z / r) if r != 0 else 0  # polar angle, with a check for r = 0\n",
    "    return r, theta, phi\n",
    "\n",
    "\n",
    "# Cartesian coordinates of the points\n",
    "cartesian_points = [(1, 1, 0)]\n",
    "\n",
    "# Convert to spherical coordinates\n",
    "spherical_points = [cartesian_to_spherical(*point) for point in cartesian_points]\n",
    "spherical_points  # Display spherical coordinates (r, theta, phi) of each point\n",
    "\n"
   ]
  },
  {
   "cell_type": "code",
   "outputs": [],
   "source": [
    "from scipy.special import sph_harm, lpmv\n",
    "import numpy as np\n",
    "\n",
    "\n",
    "# Function to calculate spherical harmonics values for given l, m, and spherical coordinates\n",
    "def calculate_spherical_harmonics(l, m, theta, phi):\n",
    "    # Spherical harmonics are typically defined with theta as the polar angle and phi as the azimuthal angle\n",
    "    return sph_harm(m, l, phi, theta)\n",
    "\n",
    "\n",
    "\n",
    "\n",
    "# Define l and m values for spherical harmonics\n",
    "l_values = [0, 1]  # Degrees\n",
    "m_values = [-1, 0, 1]  # Orders\n",
    "\n",
    "# Calculate spherical harmonics values for each point\n",
    "sh_values = {}\n",
    "for point_idx, (r, theta, phi) in enumerate(spherical_points):\n",
    "    sh_values[point_idx + 1] = {}\n",
    "    for l in l_values:\n",
    "        print()\n",
    "        for m in m_values:\n",
    "            if abs(m) <= l:  # Valid m values for each l\n",
    "                sh_key = f\"Y_{l}^{m}\"\n",
    "                sh_values[point_idx + 1][sh_key] = calculate_spherical_harmonics(l, m, theta, phi)\n",
    "                print(sh_key, calculate_spherical_harmonics(l, m, theta, phi))\n",
    "\n",
    "#sh_values  # Display spherical harmonics values for each point\n",
    "\n"
   ],
   "metadata": {
    "collapsed": false,
    "is_executing": true
   },
   "id": "de2775f1da7deffd",
   "execution_count": null
  },
  {
   "cell_type": "markdown",
   "source": [
    "# MANUALNE POCITANIE Y"
   ],
   "metadata": {
    "collapsed": false
   },
   "id": "24c013803f6ff676"
  },
  {
   "cell_type": "code",
   "outputs": [],
   "source": [
    "import scipy.special\n",
    "#import scipy as sci\n",
    "import numpy as np\n",
    "\n",
    "l = 4\n",
    "m = 2\n",
    "theta, phi = 0.6, 0.75  # Some arbitrary values of angles in radians\n",
    "Y42 = sph_harm(m, l, phi, theta)\n",
    "print(\"scipy y:\", Y42)\n",
    "\n",
    "# manualne zostrojenie\n",
    "z = np.cos(theta)\n",
    "P42 = lpmv(m, l, z)\n",
    "print(\"legendre polynomial:\", P42)\n",
    "\n",
    "# normalizacia\n",
    "f = scipy.special.factorial\n",
    "K_norm = np.sqrt((2 * l + 1) / (4 * np.pi) * f(l - m) / f(l + m))\n",
    "print(\"normalization:\", K_norm)\n",
    "\n",
    "y_manual = K_norm * P42 * np.exp(m * phi * 1j)\n",
    "print(\"y_manual:\", y_manual)\n",
    "print(y_manual == Y42)"
   ],
   "metadata": {
    "collapsed": false,
    "is_executing": true
   },
   "id": "45b07123e5d6466c",
   "execution_count": null
  },
  {
   "cell_type": "markdown",
   "source": [
    "# ORTHONORAMLITY"
   ],
   "metadata": {
    "collapsed": false
   },
   "id": "432eba5803765e83"
  },
  {
   "cell_type": "code",
   "outputs": [],
   "source": [
    "import scipy\n",
    "\n",
    "\n",
    "def dotprod(f, g):\n",
    "    #Scipy does not directly integrates complex functions.\n",
    "    #You have to break them down into two integrals of the real and imaginary part\n",
    "    integrand_r = lambda theta, phi: np.real(f(theta, phi) * np.conj(g(theta, phi)) * np.sin(theta))\n",
    "    integrand_i = lambda theta, phi: np.imag(f(theta, phi) * np.conj(g(theta, phi)) * np.sin(theta))\n",
    "    rr = scipy.integrate.dblquad(integrand_r, 0, 2 * np.pi, lambda theta: 0, lambda theta: np.pi)[0]\n",
    "    ri = scipy.integrate.dblquad(integrand_i, 0, 2 * np.pi, lambda theta: 0, lambda theta: np.pi)[0]\n",
    "    if np.allclose(rr, 0):\n",
    "        rr = 0\n",
    "    if np.allclose(ri, 0):\n",
    "        ri = 0\n",
    "    return rr + ri * 1j\n",
    "\n"
   ],
   "metadata": {
    "collapsed": false,
    "is_executing": true
   },
   "id": "3f43f5798187684a",
   "execution_count": null
  },
  {
   "cell_type": "code",
   "outputs": [],
   "source": [
    "# We check the orthogonality of the spherical harmonics:\n",
    "# Si (l,m) =! (l',m') the inner product must be zero\n",
    "Y = lambda l, m, theta, phi: sph_harm(m, l, phi, theta)\n",
    "f = lambda theta, phi: Y(4, 3, theta, phi)\n",
    "g = lambda theta, phi: Y(4, 2, theta, phi)\n",
    "dotprod(f, g)"
   ],
   "metadata": {
    "collapsed": false,
    "is_executing": true
   },
   "id": "d280aeb2caf96e5",
   "execution_count": null
  },
  {
   "cell_type": "code",
   "outputs": [],
   "source": [
    "# And, if (l,m) = (l',m') the inner product is one.\n",
    "f = lambda theta, phi: Y(4, 3, theta, phi)\n",
    "g = lambda theta, phi: Y(4, 3, theta, phi)\n",
    "dotprod(f, g)"
   ],
   "metadata": {
    "collapsed": false,
    "is_executing": true
   },
   "id": "852c64a0b59920dc",
   "execution_count": null
  },
  {
   "cell_type": "markdown",
   "source": [
    "# Graficke zobrazenie"
   ],
   "metadata": {
    "collapsed": false
   },
   "id": "28c86ae271936600"
  },
  {
   "cell_type": "code",
   "outputs": [],
   "source": [
    "l = 4  #degree\n",
    "m = 2  # order\n",
    "PHI, THETA = np.mgrid[0:2 * np.pi:200j, 0:np.pi:100j]  #arrays of angular variables\n",
    "R = np.abs(sph_harm(m, l, PHI, THETA))  #Array with the absolute values of Ylm\n",
    "#Now we convert to cartesian coordinates\n",
    "# for the 3D representation\n",
    "X = R * np.sin(THETA) * np.cos(PHI)\n",
    "Y = R * np.sin(THETA) * np.sin(PHI)\n",
    "Z = R * np.cos(THETA)"
   ],
   "metadata": {
    "collapsed": false,
    "is_executing": true
   },
   "id": "1054a724697e203f",
   "execution_count": null
  },
  {
   "cell_type": "code",
   "outputs": [],
   "source": [
    "import matplotlib.pyplot as plt\n",
    "import matplotlib.cm as cm\n",
    "import numpy as np  # Assuming you have arrays X, Y, Z, and R defined with numpy\n",
    "\n",
    "# Your existing code\n",
    "N = R / R.max()  # Normalize R for the plot colors to cover the entire range of colormap.\n",
    "fig, ax = plt.subplots(subplot_kw=dict(projection='3d'), figsize=(12, 10))\n",
    "im = ax.plot_surface(X, Y, Z, rstride=1, cstride=1, facecolors=cm.jet(N))\n",
    "ax.set_title(r'$|Y^2_ 4|$', fontsize=20)\n",
    "m = cm.ScalarMappable(cmap=cm.jet)\n",
    "m.set_array(R)  # Assign the unnormalized data array to the mappable\n",
    "#so that the scale corresponds to the values of R\n",
    "fig.colorbar(m, shrink=0.8)\n"
   ],
   "metadata": {
    "collapsed": false,
    "is_executing": true
   },
   "id": "b1641b92c1949eae",
   "execution_count": null
  },
  {
   "cell_type": "code",
   "outputs": [],
   "source": [
    "import numpy as np\n",
    "import matplotlib.pyplot as plt\n",
    "import matplotlib.cm as cm\n",
    "import matplotlib.colors as colors\n",
    "from scipy.special import sph_harm\n",
    "\n",
    "l = 3  # degree\n",
    "m = 2  # order\n",
    "PHI, THETA = np.mgrid[0:2 * np.pi:200j, 0:np.pi:100j]\n",
    "R = sph_harm(m, l, PHI, THETA).real\n",
    "\n",
    "\n",
    "# X = np.sin(THETA) * np.cos(PHI)\n",
    "# Y = np.sin(THETA) * np.sin(PHI)\n",
    "# Z = np.cos(THETA)\n",
    "\n",
    "X = R * np.sin(THETA) * np.cos(PHI)\n",
    "Y = R * np.sin(THETA) * np.sin(PHI)\n",
    "Z = R * np.cos(THETA)\n",
    "\n",
    "norm = colors.Normalize()  # Normalize instance\n",
    "fig, ax = plt.subplots(subplot_kw=dict(projection='3d'), figsize=(14, 10))\n",
    "m = cm.ScalarMappable(cmap=cm.jet)\n",
    "ax.plot_surface(X, Y, Z, rstride=1, cstride=1, facecolors=cm.jet(norm(R)))\n",
    "ax.set_title('real$(Y^2_ 4)$', fontsize=20)\n",
    "m.set_array(R)\n",
    "fig.colorbar(m, shrink=0.8)\n"
   ],
   "metadata": {
    "collapsed": false,
    "is_executing": true
   },
   "id": "5e2ddb03d4540a27",
   "execution_count": null
  },
  {
   "cell_type": "code",
   "execution_count": null,
   "outputs": [],
   "source": [
    "# ... [your previous imports and setup] ...\n",
    "\n",
    "# Define a synthetic function for heat distribution\n",
    "# This is an example; you can define it as needed\n",
    "def synthetic_heat_distribution(phi, theta):\n",
    "    # Random heat distribution (you can replace this with a more realistic function)\n",
    "    #return np.random.rand(*phi.shape)\n",
    "    return np.cos(theta)\n",
    "\n",
    "# Compute the heat distribution over the sphere\n",
    "heat_distribution = synthetic_heat_distribution(PHI, THETA)\n",
    "\n",
    "# Use the same sphere\n",
    "X = np.sin(THETA) * np.cos(PHI)\n",
    "Y = np.sin(THETA) * np.sin(PHI)\n",
    "Z = np.cos(THETA)\n",
    "\n",
    "# Plotting\n",
    "fig, ax = plt.subplots(subplot_kw=dict(projection='3d'), figsize=(14, 10))\n",
    "m = cm.ScalarMappable(cmap=cm.jet)\n",
    "ax.plot_surface(X, Y, Z, rstride=1, cstride=1, facecolors=cm.jet(norm(heat_distribution)))\n",
    "ax.set_title('Synthetic Heat Distribution on a Sphere', fontsize=20)\n",
    "m.set_array(heat_distribution)\n",
    "fig.colorbar(m, shrink=0.8)\n",
    "\n",
    "plt.show()\n"
   ],
   "metadata": {
    "collapsed": false,
    "is_executing": true
   },
   "id": "6c88f96cdc50a602"
  },
  {
   "cell_type": "code",
   "execution_count": null,
   "outputs": [],
   "source": [
    "from scipy.special import sph_harm\n",
    "\n",
    "# Define l_max, the maximum degree of spherical harmonics you want to use\n",
    "l_max = 10\n",
    "\n",
    "# Assume 'function_values' is an array of your function values over the sphere\n",
    "# and 'phi_values' and 'theta_values' are corresponding arrays of phi and theta values\n",
    "\n",
    "# Initialize an array to store the coefficients\n",
    "coefficients = np.zeros((l_max+1, 2*l_max+1), dtype=complex)\n",
    "\n",
    "# Calculate the coefficients\n",
    "for l in range(l_max + 1):\n",
    "    for m in range(-l, l + 1):\n",
    "        Y_lm = sph_harm(m, l, phi_values, theta_values)\n",
    "        coefficients[l, m + l] = np.sum(function_values * np.conj(Y_lm)) / np.sum(np.abs(Y_lm)**2)\n",
    "\n",
    "# Reconstruct the function using the coefficients\n",
    "reconstructed_values = np.zeros_like(function_values)\n",
    "for l in range(l_max + 1):\n",
    "    for m in range(-l, l + 1):\n",
    "        Y_lm = sph_harm(m, l, phi_values, theta_values)\n",
    "        reconstructed_values += coefficients[l, m + l] * Y_lm\n",
    "\n",
    "# Now 'reconstructed_values' contains the approximation of your function\n"
   ],
   "metadata": {
    "collapsed": false,
    "is_executing": true
   },
   "id": "ac7a86e5dd0efb5f"
  },
  {
   "cell_type": "markdown",
   "source": [
    "\n",
    "# TOTO ISTE LEN CEZ e3nn"
   ],
   "metadata": {
    "collapsed": false
   },
   "id": "4b312212991ee669"
  },
  {
   "cell_type": "code",
   "outputs": [],
   "source": [
    "import e3nn\n",
    "\n",
    "l = 3\n",
    "irreps_in = e3nn.o3.Irreps(\"1o\")\n",
    "x_in = irreps_in.randn(100, -1)\n",
    "\n",
    "sh = e3nn.o3.spherical_harmonics(l, x_in, False)"
   ],
   "metadata": {
    "collapsed": false,
    "is_executing": true
   },
   "id": "e7fc79abc458aee3",
   "execution_count": null
  },
  {
   "cell_type": "code",
   "outputs": [],
   "source": [
    "import plotly.graph_objects as go\n",
    "import torch\n",
    "\n",
    "alpha, beta = torch.meshgrid(\n",
    "    torch.linspace(0.0, 2 * torch.pi, 30),\n",
    "    torch.linspace(0.0, torch.pi, 30),\n",
    "    indexing=\"ij\"\n",
    ")\n",
    "\n",
    "vectors = e3nn.o3.angles_to_xyz(alpha, beta)  # Vectors on the surface of the sphere\n",
    "\n",
    "go.Figure([go.Surface(\n",
    "    x=vectors[..., 0].numpy(),\n",
    "    y=vectors[..., 1].numpy(),\n",
    "    z=vectors[..., 2].numpy(),\n",
    ")])"
   ],
   "metadata": {
    "collapsed": false,
    "is_executing": true
   },
   "id": "ac9c9ef2291c5bcd",
   "execution_count": null
  },
  {
   "cell_type": "code",
   "outputs": [],
   "source": [
    "#out = spherical_harmonic_3(vectors)\n",
    "l = 3\n",
    "m = 1\n",
    "out = e3nn.o3.spherical_harmonics(l, vectors, False)\n",
    "\n",
    "cmap_bwr = [[0, 'rgb(0,50,255)'], [0.5, 'rgb(200,200,200)'], [1, 'rgb(255,50,0)']]\n",
    "\n",
    "go.Figure([go.Surface(\n",
    "    x=vectors[..., 0].numpy(),\n",
    "    y=vectors[..., 1].numpy(),\n",
    "    z=vectors[..., 2].numpy(),\n",
    "    surfacecolor=out[..., m].numpy(),\n",
    "\n",
    "    colorscale=cmap_bwr, cmin=-0.4, cmax=0.4\n",
    ")])"
   ],
   "metadata": {
    "collapsed": false,
    "is_executing": true
   },
   "id": "409b3d37e5741ea",
   "execution_count": null
  },
  {
   "cell_type": "code",
   "outputs": [],
   "source": [
    "# Let's deform the surface of the sphere proportionally to the amplitude of the signal\n",
    "\n",
    "signal = out[..., m]\n",
    "\n",
    "go.Figure([go.Surface(\n",
    "    x=(signal.abs() * vectors[..., 0]).numpy(),\n",
    "    y=(signal.abs() * vectors[..., 1]).numpy(),\n",
    "    z=(signal.abs() * vectors[..., 2]).numpy(),\n",
    "    surfacecolor=signal.numpy(),\n",
    "\n",
    "    colorscale=cmap_bwr, cmin=-0.4, cmax=0.4\n",
    ")])"
   ],
   "metadata": {
    "collapsed": false,
    "is_executing": true
   },
   "id": "882114d0b295466e",
   "execution_count": null
  },
  {
   "cell_type": "code",
   "outputs": [],
   "source": [],
   "metadata": {
    "collapsed": false,
    "is_executing": true
   },
   "id": "47babcc7a3ed293",
   "execution_count": null
  },
  {
   "cell_type": "markdown",
   "source": [
    "# TOTO ISTE LEN SO SFERICKYMI HARMONIKAMI"
   ],
   "metadata": {
    "collapsed": false
   },
   "id": "aef895f9ac24faf0"
  },
  {
   "cell_type": "code",
   "outputs": [],
   "source": [
    "from scipy.special import sph_harm\n",
    "import matplotlib.pyplot as plt\n",
    "from mpl_toolkits.mplot3d import Axes3D\n",
    "import numpy as np\n",
    "\n",
    "# Define the grid in spherical coordinates\n",
    "phi = np.linspace(0, 2 * np.pi, 100)\n",
    "theta = np.linspace(0, np.pi, 100)\n",
    "phi, theta = np.meshgrid(phi, theta)\n",
    "x = np.sin(theta) * np.cos(phi)\n",
    "y = np.sin(theta) * np.sin(phi)\n",
    "z = np.cos(theta)\n",
    "\n",
    "# Spherical function to approximate: f(theta, phi) = cos(theta)\n",
    "f = np.cos(theta)\n",
    "\n",
    "# Degree and order for spherical harmonics approximation\n",
    "degree = 20\n",
    "# Recompute spherical harmonics approximation\n",
    "approximation = np.zeros_like(f)\n",
    "for l in range(degree+1):\n",
    "    for m in range(-l, l+1):\n",
    "        Y_lm = sph_harm(m, l, phi, theta)  # Compute spherical harmonic\n",
    "        # Compute coefficient (consider only the real part of Y_lm)\n",
    "        coefficient = np.sum(Y_lm.real * f) / np.sum(Y_lm.real * Y_lm.real)\n",
    "        approximation += coefficient * Y_lm.real  # Add to approximation (real part only)\n",
    "\n",
    "# Plotting\n",
    "fig = plt.figure(figsize=(12, 6))\n",
    "\n",
    "# Original function\n",
    "ax1 = fig.add_subplot(121, projection='3d')\n",
    "ax1.plot_surface(x, y, z, rstride=1, cstride=1, facecolors=plt.cm.viridis(f/f.max()), alpha=0.6)\n",
    "ax1.set_title('Original Function')\n",
    "ax1.set_xlim([-1,1])\n",
    "ax1.set_ylim([-1,1])\n",
    "ax1.set_zlim([-1,1])\n",
    "\n",
    "# Spherical Harmonics Approximation\n",
    "ax2 = fig.add_subplot(122, projection='3d')\n",
    "ax2.plot_surface(x, y, z, rstride=1, cstride=1, facecolors=plt.cm.viridis(approximation/np.max(approximation)), alpha=0.6)\n",
    "ax2.set_title('Spherical Harmonics Approximation')\n",
    "ax2.set_xlim([-1,1])\n",
    "ax2.set_ylim([-1,1])\n",
    "ax2.set_zlim([-1,1])\n",
    "\n",
    "plt.tight_layout()\n",
    "plt.show()\n"
   ],
   "metadata": {
    "collapsed": false,
    "is_executing": true
   },
   "id": "d531c857dec53c7e",
   "execution_count": null
  },
  {
   "cell_type": "markdown",
   "source": [
    "# SPHERICAL HARMONICS AZIMUTAL FUNCTION"
   ],
   "metadata": {
    "collapsed": false
   },
   "id": "5c3e335328630c51"
  },
  {
   "cell_type": "code",
   "outputs": [],
   "source": [
    "# Re-importing necessary libraries and redefining variables and functions after code execution state reset\n",
    "import numpy as np\n",
    "from scipy.special import sph_harm\n",
    "import matplotlib.pyplot as plt\n",
    "from mpl_toolkits.mplot3d import Axes3D\n",
    "\n",
    "# Define the grid in spherical coordinates\n",
    "phi = np.linspace(0, 2 * np.pi, 100)\n",
    "theta = np.linspace(0, np.pi, 100)\n",
    "phi, theta = np.meshgrid(phi, theta)\n",
    "x = np.sin(theta) * np.cos(phi)\n",
    "y = np.sin(theta) * np.sin(phi)\n",
    "z = np.cos(theta)\n",
    "\n",
    "# Redefining the spherical function to vary with the azimuthal angle (phi)\n",
    "# New function: f(theta, phi) = cos(phi)\n",
    "f_phi_varied = np.cos(phi)\n",
    "\n",
    "# Degree for spherical harmonics approximation\n",
    "degree = 5\n",
    "\n",
    "# Recompute spherical harmonics approximation for the new function\n",
    "approximation_phi_varied = np.zeros_like(f_phi_varied)\n",
    "for l in range(degree+1):\n",
    "    for m in range(-l, l+1):\n",
    "        Y_lm = sph_harm(m, l, phi, theta)  # Compute spherical harmonic\n",
    "        # Compute coefficient (consider only the real part of Y_lm)\n",
    "        coefficient = np.sum(Y_lm.real * f_phi_varied) / np.sum(Y_lm.real * Y_lm.real)\n",
    "        approximation_phi_varied += coefficient * Y_lm.real  # Add to approximation (real part only)\n",
    "\n",
    "# Plotting\n",
    "fig = plt.figure(figsize=(12, 6))\n",
    "\n",
    "# Original function (varying with azimuthal angle)\n",
    "ax1 = fig.add_subplot(121, projection='3d')\n",
    "ax1.plot_surface(x, y, z, rstride=1, cstride=1, facecolors=plt.cm.viridis(f_phi_varied/f_phi_varied.max()), alpha=0.6)\n",
    "ax1.set_title('Original Function (Varying with φ)')\n",
    "ax1.set_xlim([-1,1])\n",
    "ax1.set_ylim([-1,1])\n",
    "ax1.set_zlim([-1,1])\n",
    "\n",
    "# Spherical Harmonics Approximation\n",
    "ax2 = fig.add_subplot(122, projection='3d')\n",
    "ax2.plot_surface(x, y, z, rstride=1, cstride=1, facecolors=plt.cm.viridis(approximation_phi_varied/np.max(approximation_phi_varied)), alpha=0.6)\n",
    "ax2.set_title('Spherical Harmonics Approximation (Varying with φ)')\n",
    "ax2.set_xlim([-1,1])\n",
    "ax2.set_ylim([-1,1])\n",
    "ax2.set_zlim([-1,1])\n",
    "\n",
    "plt.tight_layout()\n",
    "plt.show()\n"
   ],
   "metadata": {
    "collapsed": false,
    "is_executing": true
   },
   "id": "d9244f00f1f6e12b",
   "execution_count": null
  },
  {
   "cell_type": "markdown",
   "source": [
    "# HARMONIC ANALYSIS"
   ],
   "metadata": {
    "collapsed": false
   },
   "id": "fcb25ef18db9e81c"
  },
  {
   "cell_type": "code",
   "outputs": [],
   "source": [
    "import numpy as np\n",
    "import matplotlib.pyplot as plt\n",
    "import pyshtools\n",
    "\n",
    "# Define the maximum degree of spherical harmonics\n",
    "degrees = 30\n",
    "\n",
    "# Create a sample grid (latitude-longitude grid)\n",
    "lats = np.linspace(90, -90, 2 * degrees + 1)\n",
    "lons = np.linspace(0, 360, 2 * degrees + 1, endpoint=False)\n",
    "lons, lats = np.meshgrid(lons, lats)\n",
    "colats = 90 - lats\n",
    "\n",
    "# Create some synthetic data on this grid\n",
    "data = np.cos(colats * np.pi / 180) * np.cos(lons * np.pi / 180)\n",
    "\n",
    "# Convert the data to a SHGrid object\n",
    "grid = pyshtools.SHGrid.from_array(data)\n",
    "\n",
    "# Expand the grid to spherical harmonic coefficients\n",
    "coeffs = grid.expand()\n",
    "\n",
    "# Extract the coefficients\n",
    "clm = coeffs.to_array()\n",
    "\n",
    "# Calculate the magnitudes (sum of the squares of real and imaginary parts)\n",
    "lmax = coeffs.lmax\n",
    "magnitudes = np.sum(np.abs(clm)**2, axis=0)  # Summing squares of real and imaginary parts\n",
    "\n",
    "# Plotting\n",
    "plt.figure(figsize=(10, 6))\n",
    "plt.imshow(magnitudes, extent=(-lmax, lmax, 0, lmax), aspect='auto')\n",
    "plt.colorbar(label='Magnitude of Coefficients')\n",
    "plt.xlabel('Order m')\n",
    "plt.ylabel('Degree l')\n",
    "plt.title('Magnitude of Spherical Harmonic Coefficients')\n",
    "plt.show()\n"
   ],
   "metadata": {
    "collapsed": false,
    "is_executing": true
   },
   "id": "bfd01112ffccce52",
   "execution_count": null
  }
 ],
 "metadata": {
  "kernelspec": {
   "display_name": "Python 3",
   "language": "python",
   "name": "python3"
  },
  "language_info": {
   "codemirror_mode": {
    "name": "ipython",
    "version": 2
   },
   "file_extension": ".py",
   "mimetype": "text/x-python",
   "name": "python",
   "nbconvert_exporter": "python",
   "pygments_lexer": "ipython2",
   "version": "2.7.6"
  }
 },
 "nbformat": 4,
 "nbformat_minor": 5
}
