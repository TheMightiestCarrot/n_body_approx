{
 "cells": [
  {
   "cell_type": "markdown",
   "source": [
    "# Performing 45 degrees rotation over z axis"
   ],
   "metadata": {
    "collapsed": false
   },
   "id": "9990e091a151d8b4"
  },
  {
   "cell_type": "code",
   "execution_count": 11,
   "outputs": [
    {
     "data": {
      "text/plain": "array([0.        , 0.48860251, 0.        ])"
     },
     "execution_count": 11,
     "metadata": {},
     "output_type": "execute_result"
    }
   ],
   "source": [
    "import numpy as np\n",
    "import scipy.special as sp\n",
    "\n",
    "# Define the rotation angle (45 degrees in radians)\n",
    "alpha = np.pi / 4\n",
    "\n",
    "# Wigner D-matrix for l=1 under a rotation about the z-axis by angle alpha\n",
    "# For l=1, the Wigner D-matrix is a 3x3 matrix\n",
    "# Since we are rotating about the z-axis, only the diagonal elements are non-zero and are given by e^(-im*alpha)\n",
    "D = np.diag([np.exp(-1j * (-1) * alpha), np.exp(-1j * 0 * alpha), np.exp(-1j * 1 * alpha)])\n",
    "\n",
    "# Spherical harmonic Y_10 before rotation (theta = 0 for simplicity)\n",
    "theta = 0\n",
    "Y_10_before = np.sqrt(3/(4*np.pi)) * np.cos(theta)\n",
    "\n",
    "# Transformation of Y_10 under rotation\n",
    "# For Y_10, we only need the middle row of the D-matrix, which corresponds to m=0\n",
    "Y_10_after = D[1, :] * Y_10_before\n",
    "\n",
    "Y_10_after.real  # Taking the real part as the imaginary part should be negligible\n",
    "\n"
   ],
   "metadata": {
    "collapsed": false,
    "ExecuteTime": {
     "end_time": "2024-01-31T07:44:00.876388800Z",
     "start_time": "2024-01-31T07:44:00.854301Z"
    }
   },
   "id": "initial_id"
  },
  {
   "cell_type": "markdown",
   "source": [
    "# Rotating spherical harmonics by 45(theta) and 90 degrees(phi)"
   ],
   "metadata": {
    "collapsed": false
   },
   "id": "8da15a5248bd425"
  },
  {
   "cell_type": "code",
   "execution_count": 12,
   "outputs": [
    {
     "data": {
      "text/plain": "({-1: (1.4959137556431687e-17-0.24430125595146j),\n  0: 0.3454941494713355,\n  1: (-1.4959137556431687e-17-0.24430125595146j)},\n array([ 0.17274707,  0.34549415, -0.17274707]))"
     },
     "execution_count": 12,
     "metadata": {},
     "output_type": "execute_result"
    }
   ],
   "source": [
    "import numpy as np\n",
    "\n",
    "# Define the angles theta and phi\n",
    "theta = np.pi / 4  # 45 degrees\n",
    "phi = np.pi / 2    # 90 degrees\n",
    "\n",
    "# Calculate the original spherical harmonics values\n",
    "Y_1m_values = {\n",
    "    -1: np.sqrt(3 / (8 * np.pi)) * np.sin(theta) * np.exp(-1j * phi),\n",
    "    0: np.sqrt(3 / (4 * np.pi)) * np.cos(theta),\n",
    "    1: -np.sqrt(3 / (8 * np.pi)) * np.sin(theta) * np.exp(1j * phi)\n",
    "}\n",
    "\n",
    "# Define the Wigner D-matrix for l=1 and alpha = pi/4\n",
    "D_matrix = np.array([\n",
    "    [np.exp(1j * np.pi / 4), 0, 0],\n",
    "    [0, 1, 0],\n",
    "    [0, 0, np.exp(-1j * np.pi / 4)]\n",
    "])\n",
    "\n",
    "# Transform the spherical harmonics using the D-matrix\n",
    "Y_1m_transformed = D_matrix @ np.array(list(Y_1m_values.values()))\n",
    "\n",
    "# Results\n",
    "Y_1m_values, Y_1m_transformed.real  # Displaying real parts for simplicity\n",
    "\n"
   ],
   "metadata": {
    "collapsed": false,
    "ExecuteTime": {
     "end_time": "2024-01-31T07:44:00.885936800Z",
     "start_time": "2024-01-31T07:44:00.872787900Z"
    }
   },
   "id": "8ffa43d57ab4c555"
  },
  {
   "cell_type": "markdown",
   "source": [
    "# 45 degrees rotation over all axes"
   ],
   "metadata": {
    "collapsed": false
   },
   "id": "b43643927cd565a0"
  },
  {
   "cell_type": "code",
   "execution_count": 13,
   "outputs": [
    {
     "data": {
      "text/plain": "array([[ 0.        +0.85355339j,  0.35355339+0.35355339j,\n         0.14644661+0.j        ],\n       [-0.35355339-0.35355339j,  0.70710678+0.j        ,\n        -0.35355339+0.35355339j],\n       [-0.14644661+0.j        ,  0.35355339-0.35355339j,\n         0.        -0.85355339j]])"
     },
     "execution_count": 13,
     "metadata": {},
     "output_type": "execute_result"
    }
   ],
   "source": [
    "from scipy.special import sph_harm\n",
    "\n",
    "# Define the Euler angles for the rotation (alpha, beta, gamma)\n",
    "alpha = beta = gamma = np.pi / 4  # 45 degrees\n",
    "\n",
    "# Function to compute the small d-matrix element d^l_m'm for l=1\n",
    "def d_matrix_element_1(m_prime, m, beta):\n",
    "    if m_prime == 1 and m == 1:\n",
    "        return np.cos(beta/2)**2\n",
    "    elif m_prime == 1 and m == -1:\n",
    "        return -np.sin(beta/2)**2\n",
    "    elif m_prime == -1 and m == 1:\n",
    "        return np.sin(beta/2)**2\n",
    "    elif m_prime == -1 and m == -1:\n",
    "        return np.cos(beta/2)**2\n",
    "    elif m_prime == 0 and m == 1:\n",
    "        return -np.sqrt(2)/2 * np.sin(beta)\n",
    "    elif m_prime == 1 and m == 0:\n",
    "        return np.sqrt(2)/2 * np.sin(beta)\n",
    "    elif m_prime == 0 and m == -1:\n",
    "        return -np.sqrt(2)/2 * np.sin(beta)\n",
    "    elif m_prime == -1 and m == 0:\n",
    "        return np.sqrt(2)/2 * np.sin(beta)\n",
    "    elif m_prime == 0 and m == 0:\n",
    "        return np.cos(beta)\n",
    "    else:\n",
    "        return 0\n",
    "\n",
    "# Compute the Wigner D-matrix for l=1\n",
    "D_matrix_1 = np.zeros((3, 3), dtype=complex)\n",
    "for m_prime in range(-1, 2):\n",
    "    for m in range(-1, 2):\n",
    "        D_matrix_1[m_prime+1, m+1] = np.exp(-1j * m_prime * alpha) * d_matrix_element_1(m_prime, m, beta) * np.exp(-1j * m * gamma)\n",
    "\n",
    "# Display the computed Wigner D-matrix for l=1\n",
    "D_matrix_1\n",
    "\n"
   ],
   "metadata": {
    "collapsed": false,
    "ExecuteTime": {
     "end_time": "2024-01-31T07:44:00.930424100Z",
     "start_time": "2024-01-31T07:44:00.892487400Z"
    }
   },
   "id": "cc18f912dc169b07"
  },
  {
   "cell_type": "code",
   "execution_count": 14,
   "outputs": [
    {
     "data": {
      "text/plain": "(array([ 1.49591376e-17-0.24430126j,  3.45494149e-01+0.j        ,\n        -1.49591376e-17-0.24430126j]),\n array([ 0.33067479+0.08637354j,  0.24430126+0.17274707j,\n        -0.08637354-0.08637354j]))"
     },
     "execution_count": 14,
     "metadata": {},
     "output_type": "execute_result"
    }
   ],
   "source": [
    "# Calculate the original spherical harmonics values at theta = phi = pi/4\n",
    "Y_1m_original = np.array([\n",
    "    sph_harm(-1, 1, phi, theta),\n",
    "    sph_harm(0, 1, phi, theta),\n",
    "    sph_harm(1, 1, phi, theta)\n",
    "])\n",
    "# Apply the Wigner D-matrix to transform the spherical harmonics\n",
    "Y_1m_transformed = D_matrix_1 @ Y_1m_original\n",
    "\n",
    "# Display the original and transformed spherical harmonics values\n",
    "Y_1m_original, Y_1m_transformed\n",
    "\n"
   ],
   "metadata": {
    "collapsed": false,
    "ExecuteTime": {
     "end_time": "2024-01-31T07:44:00.931534700Z",
     "start_time": "2024-01-31T07:44:00.900696400Z"
    }
   },
   "id": "ab36356d6faf42e7"
  },
  {
   "cell_type": "markdown",
   "source": [
    "# Reducible representations"
   ],
   "metadata": {
    "collapsed": false
   },
   "id": "e40cdeb085e2c034"
  },
  {
   "cell_type": "code",
   "execution_count": null,
   "outputs": [],
   "source": [],
   "metadata": {
    "collapsed": false
   },
   "id": "40011d99d48415d1"
  },
  {
   "cell_type": "markdown",
   "source": [
    "# Irreducible representations of a group"
   ],
   "metadata": {
    "collapsed": false
   },
   "id": "925fb714769b7f59"
  },
  {
   "cell_type": "code",
   "execution_count": 15,
   "outputs": [
    {
     "data": {
      "text/plain": "(array([[1, 0, 0],\n        [0, 1, 0],\n        [0, 0, 1]]),\n array([[ 0, -1,  0],\n        [ 1,  0,  0],\n        [ 0,  0,  1]]),\n array([[-1,  0,  0],\n        [ 0, -1,  0],\n        [ 0,  0,  1]]),\n array([[ 0,  1,  0],\n        [-1,  0,  0],\n        [ 0,  0,  1]]),\n array([[-1,  0,  0],\n        [ 0, -1,  0],\n        [ 0,  0, -1]]),\n array([[ 1,  0,  0],\n        [ 0,  1,  0],\n        [ 0,  0, -1]]))"
     },
     "execution_count": 15,
     "metadata": {},
     "output_type": "execute_result"
    }
   ],
   "source": [
    "import numpy as np\n",
    "\n",
    "# Define the rotation matrices for SO(3) group, rotation around the z-axis\n",
    "D_e = np.array([[1, 0, 0], [0, 1, 0], [0, 0, 1]])\n",
    "D_r90 = np.array([[0, -1, 0], [1, 0, 0], [0, 0, 1]])\n",
    "D_r180 = np.array([[-1, 0, 0], [0, -1, 0], [0, 0, 1]])\n",
    "D_r270 = np.array([[0, 1, 0], [-1, 0, 0], [0, 0, 1]])\n",
    "\n",
    "# Inversion matrix for O(3) group\n",
    "D_I = np.array([[-1, 0, 0], [0, -1, 0], [0, 0, -1]])\n",
    "\n",
    "# Group operation: combining a 180-degree rotation and inversion\n",
    "D_r180_I = D_r180 @ D_I\n",
    "\n",
    "# Display the matrices and the result of their group operation\n",
    "D_e, D_r90, D_r180, D_r270, D_I, D_r180_I\n",
    "\n"
   ],
   "metadata": {
    "collapsed": false,
    "ExecuteTime": {
     "end_time": "2024-01-31T07:44:00.988730500Z",
     "start_time": "2024-01-31T07:44:00.919898Z"
    }
   },
   "id": "1a417f3422829944"
  }
 ],
 "metadata": {
  "kernelspec": {
   "display_name": "Python 3",
   "language": "python",
   "name": "python3"
  },
  "language_info": {
   "codemirror_mode": {
    "name": "ipython",
    "version": 2
   },
   "file_extension": ".py",
   "mimetype": "text/x-python",
   "name": "python",
   "nbconvert_exporter": "python",
   "pygments_lexer": "ipython2",
   "version": "2.7.6"
  }
 },
 "nbformat": 4,
 "nbformat_minor": 5
}
