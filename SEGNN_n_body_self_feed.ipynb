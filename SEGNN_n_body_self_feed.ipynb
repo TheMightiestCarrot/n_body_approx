{
 "cells": [
  {
   "cell_type": "code",
   "outputs": [
    {
     "name": "stdout",
     "output_type": "stream",
     "text": [
      "C:\\Users\\MartinKaras(AI)\\.conda\\envs\\n_body_approx_3_10\\python.exe\n"
     ]
    }
   ],
   "source": [
    "import glob\n",
    "from utils import segnn_utils\n",
    "import os\n",
    "import numpy as np\n",
    "import torch\n",
    "import sys\n",
    "from datasets.nbody.dataset_gravity import GravityDataset\n",
    "import importlib\n",
    "\n",
    "sys.argv = [\n",
    "    'main.py', '--dataset=gravity', '--epochs=5', '--max_samples=3000',\n",
    "    '--model=segnn', '--lmax_h=1', '--lmax_attr=1', '--layers=4',\n",
    "    '--hidden_features=64', '--subspace_type=weightbalanced', '--norm=none',\n",
    "    '--batch_size=100', '--gpu=1', '--weight_decay=1e-12', '--target=pos'\n",
    "]\n",
    "parser = segnn_utils.create_argparser()\n",
    "args = parser.parse_args()\n",
    "\n",
    "torch.manual_seed(42)\n",
    "\n",
    "print(sys.executable)\n",
    "device = torch.device(\"cuda\" if torch.cuda.is_available() else \"cpu\")\n",
    "\n",
    "run = os.path.join(\"segnn_runs\", \"2024-03-18 18-38_gravityV2_segnn\")\n",
    "\n",
    "models = glob.glob(run + \"/\" + '*.pth')\n",
    "if len(models) > 1:\n",
    "    print(\"MORE MODELS FOUND IN THE DIR, LOADING THE FIRST:\", models[0])\n",
    "\n",
    "model = torch.load(models[0], map_location=device)\n",
    "\n",
    "dataset_train = GravityDataset(partition='train', dataset_name=args.nbody_name,\n",
    "                               max_samples=args.max_samples, neighbours=args.neighbours, target=args.target)\n",
    "\n",
    "t_delta = 2\n",
    "loc, vel, force, mass = dataset_train.data\n",
    "dims = loc.shape[-1]\n",
    "boxSize = 5\n",
    "particle_index = None"
   ],
   "metadata": {
    "collapsed": false,
    "ExecuteTime": {
     "end_time": "2024-03-20T13:47:12.860881Z",
     "start_time": "2024-03-20T13:47:12.597631Z"
    }
   },
   "id": "49eba1514facfe10",
   "execution_count": 6
  },
  {
   "cell_type": "markdown",
   "source": [
    "# Getting prediction from batches, where a batch is all steps of a single simulation\n",
    "\n"
   ],
   "metadata": {
    "collapsed": false
   },
   "id": "b9cacda1635bda3c"
  },
  {
   "cell_type": "code",
   "outputs": [
    {
     "name": "stderr",
     "output_type": "stream",
     "text": [
      "C:\\Users\\MartinKaras(AI)\\.conda\\envs\\n_body_approx_3_10\\lib\\site-packages\\torch_geometric\\deprecation.py:26: UserWarning: 'contains_isolated_nodes' is deprecated, use 'has_isolated_nodes' instead\n",
      "  warnings.warn(out)\n"
     ]
    }
   ],
   "source": [
    "from utils import segnn_utils\n",
    "\n",
    "sim_indices = (i for i in range(3))\n",
    "batch_simulations_predictions = segnn_utils.batch_prediction(model, dataset_train.data, args, device,\n",
    "                                                             simulation_indices=sim_indices)"
   ],
   "metadata": {
    "collapsed": false,
    "ExecuteTime": {
     "end_time": "2024-03-20T13:47:14.802617Z",
     "start_time": "2024-03-20T13:47:13.919116Z"
    }
   },
   "id": "784c2d52f9547f57",
   "execution_count": 7
  },
  {
   "cell_type": "markdown",
   "source": [
    "# Plot the whole simulation"
   ],
   "metadata": {
    "collapsed": false
   },
   "id": "1987cd9c25d516e7"
  },
  {
   "cell_type": "code",
   "outputs": [],
   "source": [
    "simulation_index = 0\n",
    "\n",
    "batch_simulations_predicted_position_changes = batch_simulations_predictions[simulation_index, ..., :dims]\n",
    "batch_simulations_predicted_positions = loc[simulation_index] + batch_simulations_predicted_position_changes\n",
    "\n",
    "batch_targets = segnn_utils.get_targets(dataset_train.data, simulation_index=simulation_index, t_delta=t_delta)\n",
    "\n",
    "dataset_train.simulation.interactive_trajectory_plot_all_particles_3d(batch_targets,\n",
    "                                                                      batch_simulations_predicted_positions,\n",
    "                                                                      particle_index,\n",
    "                                                                      boxSize=boxSize, dims=dims,\n",
    "                                                                      offline_plot=False)"
   ],
   "metadata": {
    "collapsed": false,
    "ExecuteTime": {
     "end_time": "2024-03-20T13:47:16.984804Z",
     "start_time": "2024-03-20T13:47:15.495597Z"
    }
   },
   "id": "1faeb35c48de28f8",
   "execution_count": 8
  },
  {
   "cell_type": "markdown",
   "source": [
    "# SELFFEED STEPWISE (len jedna simulacia, nie batch simulacii)\n"
   ],
   "metadata": {
    "collapsed": false
   },
   "id": "72f53f5dc74eb393"
  },
  {
   "cell_type": "code",
   "outputs": [
    {
     "name": "stdout",
     "output_type": "stream",
     "text": [
      "Simulating 0\n",
      "Simulating 1\n",
      "Simulating 2\n"
     ]
    }
   ],
   "source": [
    "sim_indices = (i for i in range(3))\n",
    "steps = 100\n",
    "\n",
    "self_feed_simulations_pos, self_feed_simulations_model_output = segnn_utils.self_feed_stepwise_prediction(model,\n",
    "                                                                                                          dataset_train.data,\n",
    "                                                                                                          dataset_train.simulation,\n",
    "                                                                                                          args, device,\n",
    "                                                                                                          simulation_indices=sim_indices,\n",
    "                                                                                                          steps=steps)"
   ],
   "metadata": {
    "collapsed": false,
    "ExecuteTime": {
     "end_time": "2024-03-20T14:13:37.581216Z",
     "start_time": "2024-03-20T14:13:32.086580Z"
    }
   },
   "id": "5a998e45bc566eea",
   "execution_count": 27
  },
  {
   "cell_type": "markdown",
   "source": [
    "### selffeed stepwise results"
   ],
   "metadata": {
    "collapsed": false
   },
   "id": "6308b50d688f0156"
  },
  {
   "cell_type": "code",
   "outputs": [],
   "source": [
    "particle_index = None\n",
    "simulation_index = 0\n",
    "\n",
    "self_feed_targets = segnn_utils.get_targets(dataset.data, simulation_index=simulation_index, t_delta=t_delta)\n",
    "dataset_train.simulation.interactive_trajectory_plot_all_particles_3d(self_feed_targets,\n",
    "                                                                      self_feed_simulations_pos[simulation_index],\n",
    "                                                                      particle_index,\n",
    "                                                                      boxSize=boxSize, dims=dims,\n",
    "                                                                      offline_plot=False, alpha=0.2)"
   ],
   "metadata": {
    "collapsed": false,
    "ExecuteTime": {
     "end_time": "2024-03-20T14:13:45.585752Z",
     "start_time": "2024-03-20T14:13:41.566844Z"
    }
   },
   "id": "3dbccc8f4ec464a4",
   "execution_count": 28
  },
  {
   "cell_type": "markdown",
   "source": [
    "# SELFFEED BATCH"
   ],
   "metadata": {
    "collapsed": false
   },
   "id": "de7bae3e79d928d6"
  },
  {
   "cell_type": "code",
   "outputs": [],
   "source": [
    "n_sims = 3\n",
    "steps = 100\n",
    "\n",
    "self_feed_batch_pos, self_feed_batch_model_output = segnn_utils.self_feed_batch_prediction(model,\n",
    "                                                                                           dataset_train.data,\n",
    "                                                                                           dataset_train.simulation,\n",
    "                                                                                           args, device,\n",
    "                                                                                           n_sims=n_sims,\n",
    "                                                                                           steps=steps)"
   ],
   "metadata": {
    "collapsed": false,
    "ExecuteTime": {
     "end_time": "2024-03-20T14:13:56.563880Z",
     "start_time": "2024-03-20T14:13:53.986098Z"
    }
   },
   "id": "1b7bfdb45737dc92",
   "execution_count": 29
  },
  {
   "cell_type": "markdown",
   "source": [
    "# selffeed batch results"
   ],
   "metadata": {
    "collapsed": false
   },
   "id": "72eaf65e42e4cc38"
  },
  {
   "cell_type": "code",
   "outputs": [],
   "source": [
    "particle_index = None\n",
    "simulation_index = 0\n",
    "\n",
    "self_feed_batch_targets = segnn_utils.get_targets(dataset.data, simulation_index=simulation_index, t_delta=t_delta)\n",
    "dataset_train.simulation.interactive_trajectory_plot_all_particles_3d(self_feed_batch_targets,\n",
    "                                                                      self_feed_batch_pos[simulation_index],\n",
    "                                                                      particle_index,\n",
    "                                                                      boxSize=boxSize, dims=dims,\n",
    "                                                                      offline_plot=False, alpha=0.2)"
   ],
   "metadata": {
    "collapsed": false,
    "ExecuteTime": {
     "end_time": "2024-03-20T14:12:58.436131Z",
     "start_time": "2024-03-20T14:11:44.707475Z"
    }
   },
   "id": "45c1db8f5436ef34",
   "execution_count": 26
  },
  {
   "cell_type": "markdown",
   "source": [
    "# Compare batch and stepwise results\n"
   ],
   "metadata": {
    "collapsed": false
   },
   "id": "b94527e96a3ca178"
  },
  {
   "cell_type": "code",
   "outputs": [
    {
     "name": "stdout",
     "output_type": "stream",
     "text": [
      "{'MSE_Batch': 1.0315218313824176e-18, 'MSE_Stepwise': 1.0315218313824176e-18, 'MSE_Difference': 0.0}\n"
     ]
    }
   ],
   "source": [
    "importlib.reload(segnn_utils)\n",
    "comparison_results = segnn_utils.compare_predictions(self_feed_batch_pos, self_feed_simulations_pos)"
   ],
   "metadata": {
    "collapsed": false,
    "ExecuteTime": {
     "end_time": "2024-03-20T14:18:00.774824Z",
     "start_time": "2024-03-20T14:18:00.764419Z"
    }
   },
   "id": "1a4c2c03c2eab685",
   "execution_count": 33
  },
  {
   "cell_type": "code",
   "outputs": [],
   "source": [
    "predictions_np = np.stack(predictions)\n",
    "\n",
    "pred_loc = predictions_np[..., :3]\n",
    "pred_vel = predictions_np[..., 3:]\n",
    "#preds_mass = mass.repeat(len(pred_vel), 1)\n",
    "%matplotlib inline\n",
    "sim.plot_trajectory_static(pred_loc)\n",
    "sim.plot_energies(pred_loc, pred_vel, np.array(mass))\n",
    "sim.plot_histograms(pred_loc, pred_vel)\n",
    "sim.plot_energy_distribution(pred_loc, pred_vel, np.array(mass), bins=50)"
   ],
   "metadata": {
    "collapsed": false
   },
   "id": "7fc1c0e4c3b0e8c4",
   "execution_count": null
  },
  {
   "cell_type": "code",
   "outputs": [],
   "source": [
    "\n",
    "\n",
    "import matplotlib.pyplot as plt\n",
    "\n",
    "num_dims = 3\n",
    "opos = batch_prediction[..., :num_dims].reshape(50, 5, num_dims)\n",
    "ovel = batch_prediction[..., num_dims:].reshape(50, 5, num_dims)\n"
   ],
   "metadata": {
    "collapsed": false
   },
   "id": "34d87fb9de931df4",
   "execution_count": null
  },
  {
   "cell_type": "code",
   "outputs": [],
   "source": [
    "\n",
    "plt.figure(figsize=(10, 5))\n",
    "\n",
    "dim_labels = ['x', 'y', 'z'][:num_dims]  # Labels for dimensions\n",
    "colors = ['red', 'green', 'blue'][:num_dims]  # Color for each dimension\n",
    "\n",
    "# Positions\n",
    "# plt.subplot(1, 2, 1)\n",
    "for i, (color, label) in enumerate(zip(colors, dim_labels)):\n",
    "    plt.hist(opos[:, :, i].flatten(), bins=50, alpha=0.5, color=color, label=f'{label}')\n",
    "plt.title('Positions')\n",
    "plt.legend()\n",
    "\n",
    "# # Velocities\n",
    "# plt.subplot(1, 2, 2)\n",
    "# for i, (color, label) in enumerate(zip(colors, dim_labels)):\n",
    "#     plt.hist(ovel[:, :, i].flatten(), bins=50, alpha=0.5, color=color, label=f'{label}')\n",
    "# plt.title('Velocities')\n",
    "# plt.legend()\n",
    "\n",
    "#plt.tight_layout()\n",
    "plt.show()"
   ],
   "metadata": {
    "collapsed": false
   },
   "id": "34af3e8836688050",
   "execution_count": null
  }
 ],
 "metadata": {
  "kernelspec": {
   "display_name": "Python 3",
   "language": "python",
   "name": "python3"
  },
  "language_info": {
   "codemirror_mode": {
    "name": "ipython",
    "version": 2
   },
   "file_extension": ".py",
   "mimetype": "text/x-python",
   "name": "python",
   "nbconvert_exporter": "python",
   "pygments_lexer": "ipython2",
   "version": "2.7.6"
  }
 },
 "nbformat": 4,
 "nbformat_minor": 5
}
