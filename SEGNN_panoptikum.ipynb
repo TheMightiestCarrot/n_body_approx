{
 "cells": [
  {
   "cell_type": "code",
   "outputs": [
    {
     "name": "stdout",
     "output_type": "stream",
     "text": [
      "C:\\Users\\MartinKaras(AI)\\.conda\\envs\\n_body_approx_3_10\\python.exe\n"
     ]
    }
   ],
   "source": [
    "import glob\n",
    "from utils import segnn_utils\n",
    "import os\n",
    "import numpy as np\n",
    "import torch\n",
    "import sys\n",
    "from datasets.nbody.dataset_gravity import GravityDataset\n",
    "import importlib\n",
    "import json\n",
    "from types import SimpleNamespace\n",
    "%matplotlib inline\n",
    "\n",
    "torch.manual_seed(42)\n",
    "\n",
    "print(sys.executable)\n",
    "device = torch.device(\"cuda\" if torch.cuda.is_available() else \"cpu\")\n",
    "\n",
    "#run = os.path.join(\"segnn_runs\", \"2024-03-18 18-38_gravityV2_segnn\")\n",
    "run = os.path.join(\"segnn_runs\", \"2024-03-20 11-01_gravityV2_segnn\")\n",
    "\n",
    "# training args\n",
    "metadata_path = os.path.join(run, 'training_args.json')\n",
    "if os.path.exists(metadata_path):\n",
    "    with open(metadata_path, 'r') as json_file:\n",
    "        args_dict = json.load(json_file)\n",
    "    args = SimpleNamespace(**args_dict)\n",
    "    args = SimpleNamespace(**args.args)\n",
    "\n",
    "models = glob.glob(run + \"/\" + '*.pth')\n",
    "if len(models) > 1:\n",
    "    print(\"MORE MODELS FOUND IN THE DIR, LOADING THE FIRST:\", models[0])\n",
    "\n",
    "model = torch.load(models[0], map_location=device)\n",
    "model.eval()\n",
    "\n",
    "dataset = GravityDataset(partition='test', dataset_name=args.nbody_name,\n",
    "                         max_samples=args.max_samples, neighbours=args.neighbours, target=args.target,\n",
    "                         path=os.path.join(run, \"gravity\"))\n",
    "\n",
    "t_delta = 2\n",
    "loc, vel, force, mass = dataset.data\n",
    "dims = loc.shape[-1]\n",
    "boxSize = 5\n",
    "particle_index = None"
   ],
   "metadata": {
    "collapsed": false,
    "ExecuteTime": {
     "end_time": "2024-03-25T12:32:31.384944Z",
     "start_time": "2024-03-25T12:32:26.865683Z"
    }
   },
   "id": "49eba1514facfe10",
   "execution_count": 1
  },
  {
   "cell_type": "markdown",
   "source": [
    "---\n",
    "# SELFFEED BATCH\n",
    "---"
   ],
   "metadata": {
    "collapsed": false
   },
   "id": "de7bae3e79d928d6"
  },
  {
   "cell_type": "code",
   "outputs": [],
   "source": [
    "importlib.reload(segnn_utils)\n",
    "n_sims = 30\n",
    "steps = 300\n",
    "\n",
    "self_feed_batch_pos, self_feed_batch_vel, self_feed_batch_force = segnn_utils.self_feed_batch_prediction(model,\n",
    "                                                                                                         dataset.data,\n",
    "                                                                                                         dataset.simulation,\n",
    "                                                                                                         args, device,\n",
    "                                                                                                         n_sims=n_sims,\n",
    "                                                                                                         steps=steps)"
   ],
   "metadata": {
    "collapsed": false,
    "ExecuteTime": {
     "end_time": "2024-03-25T14:18:51.502563Z",
     "start_time": "2024-03-25T14:18:32.867680Z"
    }
   },
   "id": "1b7bfdb45737dc92",
   "execution_count": 19
  },
  {
   "cell_type": "code",
   "outputs": [
    {
     "name": "stdout",
     "output_type": "stream",
     "text": [
      "Showing plot, you might need to bring the plot window in focus\n"
     ]
    }
   ],
   "source": [
    "particle_index = None\n",
    "simulation_index = 2\n",
    "importlib.reload(segnn_utils)\n",
    "\n",
    "\n",
    "import datasets.nbody.dataset.synthetic_sim as synthetic_sim\n",
    "importlib.reload(synthetic_sim)\n",
    "\n",
    "sim = synthetic_sim.GravitySim(n_balls=5, loc_std=1)\n",
    "\n",
    "\n",
    "self_feed_batch_targets = segnn_utils.get_targets(dataset.data, simulation_index=simulation_index,\n",
    "                                                  t_delta=t_delta)\n",
    "sim.interactive_trajectory_plot_all_particles_3d(self_feed_batch_targets,\n",
    "                                                                self_feed_batch_pos[simulation_index],\n",
    "                                                                particle_index,\n",
    "                                                                boxSize=10, dims=dims,\n",
    "                                                                offline_plot=False, alpha=0.2)"
   ],
   "metadata": {
    "collapsed": false,
    "ExecuteTime": {
     "end_time": "2024-03-25T13:46:06.004164Z",
     "start_time": "2024-03-25T13:46:04.502364Z"
    }
   },
   "id": "45c1db8f5436ef34",
   "execution_count": 17
  },
  {
   "cell_type": "code",
   "outputs": [],
   "source": [
    "for i in range(len(self_feed_batch_pos)):\n",
    "    self_feed_batch_targets = segnn_utils.get_targets(dataset.data, simulation_index=i, t_delta=t_delta)\n",
    "    sim.interactive_plotly_offline_plot(self_feed_batch_targets, self_feed_batch_pos[i], duration=12, output_file=os.path.join(\"offline_plots\",f\"sim{i}.html\"))"
   ],
   "metadata": {
    "collapsed": false,
    "ExecuteTime": {
     "end_time": "2024-03-25T15:00:27.788843Z",
     "start_time": "2024-03-25T14:59:18.927923Z"
    }
   },
   "id": "ad492be8309f8a17",
   "execution_count": 23
  },
  {
   "cell_type": "code",
   "outputs": [
    {
     "name": "stdout",
     "output_type": "stream",
     "text": [
      "Showing plot, you might need to bring the plot window in focus\n"
     ]
    }
   ],
   "source": [
    "sim.interactive_trajectory_plot_all_particles_3d(self_feed_batch_targets,\n",
    "                                                 self_feed_batch_pos[15],\n",
    "                                                 particle_index,\n",
    "                                                 boxSize=10, dims=dims,\n",
    "                                                 offline_plot=False, alpha=0.2)"
   ],
   "metadata": {
    "collapsed": false,
    "ExecuteTime": {
     "end_time": "2024-03-25T14:27:15.604111Z",
     "start_time": "2024-03-25T14:26:46.381840Z"
    }
   },
   "id": "b0b7bb36ab996a90",
   "execution_count": 21
  },
  {
   "cell_type": "code",
   "outputs": [],
   "source": [
    "import datasets.nbody.dataset.synthetic_sim as synthetic_sim\n",
    "importlib.reload(synthetic_sim)\n",
    "\n",
    "sim = synthetic_sim.GravitySim(n_balls=5, loc_std=1)\n",
    "\n",
    "importlib.reload(segnn_utils)\n",
    "\n",
    "for i in range(len(self_feed_batch_pos)):\n",
    "    self_feed_batch_targets = segnn_utils.get_targets(dataset.data, simulation_index=i, t_delta=t_delta)\n",
    "    sim.interactive_plotly_offline_plot(self_feed_batch_targets, self_feed_batch_pos[i], duration=12, output_file=os.path.join(\"offline_plots\",f\"sim{i}.html\"))\n",
    "    \n"
   ],
   "metadata": {
    "collapsed": false,
    "ExecuteTime": {
     "end_time": "2024-03-25T16:19:16.577705Z",
     "start_time": "2024-03-25T16:17:15.428315Z"
    }
   },
   "id": "a18f3b5d0a698da2",
   "execution_count": 39
  },
  {
   "cell_type": "code",
   "outputs": [
    {
     "name": "stdout",
     "output_type": "stream",
     "text": [
      "Showing plot, you might need to bring the plot window in focus\n"
     ]
    }
   ],
   "source": [
    "import datasets.nbody.dataset.synthetic_sim as synthetic_sim\n",
    "importlib.reload(synthetic_sim)\n",
    "\n",
    "sim = synthetic_sim.GravitySim(n_balls=5, loc_std=1)\n",
    "\n",
    "sim.interactive_trajectory_plot_all_particles_3d(self_feed_batch_targets,\n",
    "                                                 self_feed_batch_pos[0],\n",
    "                                                 particle_index,\n",
    "                                                 boxSize=20, dims=dims,\n",
    "                                                 offline_plot=False, alpha=0.2)"
   ],
   "metadata": {
    "collapsed": false,
    "ExecuteTime": {
     "end_time": "2024-03-25T15:52:39.026416Z",
     "start_time": "2024-03-25T15:52:36.778350Z"
    }
   },
   "id": "b3d3e350d747b002",
   "execution_count": 31
  },
  {
   "cell_type": "code",
   "outputs": [
    {
     "data": {
      "text/plain": "array([[[ 0.25599378,  0.50036839, -0.68117733],\n        [-0.58148081, -1.1037777 , -0.33030632],\n        [ 0.32889949, -0.85687084, -1.03891683],\n        [-0.96231441, -0.07366148, -2.29508088],\n        [ 1.27814505, -1.51114328,  0.8399791 ]]])"
     },
     "execution_count": 30,
     "metadata": {},
     "output_type": "execute_result"
    }
   ],
   "source": [],
   "metadata": {
    "collapsed": false,
    "ExecuteTime": {
     "end_time": "2024-03-25T15:49:36.054360Z",
     "start_time": "2024-03-25T15:49:36.039359Z"
    }
   },
   "id": "a9af15650a11aeda",
   "execution_count": 30
  }
 ],
 "metadata": {
  "kernelspec": {
   "display_name": "Python 3",
   "language": "python",
   "name": "python3"
  },
  "language_info": {
   "codemirror_mode": {
    "name": "ipython",
    "version": 2
   },
   "file_extension": ".py",
   "mimetype": "text/x-python",
   "name": "python",
   "nbconvert_exporter": "python",
   "pygments_lexer": "ipython2",
   "version": "2.7.6"
  }
 },
 "nbformat": 4,
 "nbformat_minor": 5
}
