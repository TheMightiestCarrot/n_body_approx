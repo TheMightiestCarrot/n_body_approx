{
 "cells": [
  {
   "cell_type": "code",
   "execution_count": 51,
   "id": "initial_id",
   "metadata": {
    "collapsed": true,
    "ExecuteTime": {
     "end_time": "2024-03-22T13:25:58.204391Z",
     "start_time": "2024-03-22T13:25:57.926029Z"
    }
   },
   "outputs": [
    {
     "name": "stdout",
     "output_type": "stream",
     "text": [
      "C:\\Users\\MartinKaras(AI)\\.conda\\envs\\n_body_approx_3_10\\python.exe\n"
     ]
    }
   ],
   "source": [
    "import glob\n",
    "from utils import segnn_utils\n",
    "import os\n",
    "import numpy as np\n",
    "import torch\n",
    "import sys\n",
    "from datasets.nbody.dataset_gravity import GravityDataset\n",
    "import importlib\n",
    "import json\n",
    "from types import SimpleNamespace\n",
    "%matplotlib inline\n",
    "\n",
    "torch.manual_seed(42)\n",
    "\n",
    "print(sys.executable)\n",
    "device = torch.device(\"cuda\" if torch.cuda.is_available() else \"cpu\")\n",
    "\n",
    "#run = os.path.join(\"segnn_runs\", \"2024-03-18 18-38_gravityV2_segnn\")\n",
    "run = os.path.join(\"segnn_runs\", \"2024-03-20 11-01_gravityV2_segnn\")\n",
    "\n",
    "# training args\n",
    "metadata_path = os.path.join(run, 'training_args.json')\n",
    "if os.path.exists(metadata_path):\n",
    "    with open(metadata_path, 'r') as json_file:\n",
    "        args_dict = json.load(json_file)\n",
    "    args = SimpleNamespace(**args_dict)\n",
    "    args = SimpleNamespace(**args.args)\n",
    "\n",
    "models = glob.glob(run + \"/\" + '*.pth')\n",
    "if len(models) > 1:\n",
    "    print(\"MORE MODELS FOUND IN THE DIR, LOADING THE FIRST:\", models[0])\n",
    "\n",
    "model = torch.load(models[0], map_location=device)\n",
    "model.eval()\n",
    "\n",
    "dataset = GravityDataset(partition='test', dataset_name=args.nbody_name,\n",
    "                         max_samples=args.max_samples, neighbours=args.neighbours, target=args.target,\n",
    "                         path=os.path.join(run, \"gravity\"))\n",
    "\n",
    "t_delta = 2\n",
    "loc, vel, force, mass = dataset.data\n",
    "dims = loc.shape[-1]\n",
    "boxSize = 5\n",
    "particle_index = None"
   ]
  },
  {
   "cell_type": "code",
   "outputs": [],
   "source": [
    "import glob\n",
    "import os\n",
    "import argparse\n",
    "import copy\n",
    "import numpy as np\n",
    "import torch\n",
    "from sklearn.metrics import mean_squared_error\n",
    "from torch_geometric.data import Data\n",
    "from torch_geometric.nn import knn_graph\n",
    "from datasets.nbody.train_gravity_V2 import O3Transform\n",
    "import multiprocessing\n",
    "\n",
    "import torch\n",
    "\n",
    "def rotate_positions(positions, rotation_matrix):\n",
    "    \"\"\"Rotate positions by a given rotation matrix.\"\"\"\n",
    "    return torch.einsum(\n",
    "        \"ij,nj->ni\",\n",
    "        rotation_matrix,\n",
    "        positions,\n",
    "    )\n",
    "\n",
    "\n",
    "transform = O3Transform(args.lmax_attr)\n",
    "\n",
    "simulation_index = 0\n",
    "all_predictions = []\n",
    "loc, vel, force, mass = copy.deepcopy(dataset.data)\n",
    "\n",
    "data_dims = loc.shape[-1]\n",
    "batch_size = loc.shape[-3]\n",
    "#batch_size = 10000\n",
    "n_nodes = loc.shape[-2]\n",
    "\n",
    "\n",
    "\n",
    "loc = torch.from_numpy(loc[simulation_index]).view(-1, data_dims)\n",
    "vel = torch.from_numpy(vel[simulation_index]).view(-1, data_dims)\n",
    "force = torch.from_numpy(force[simulation_index]).view(-1, data_dims)\n",
    "\n",
    "# new_loc = torch.rand(batch_size, data_dims)\n",
    "# new_vel = torch.rand(batch_size, data_dims)\n",
    "# new_force = torch.rand(batch_size, data_dims)\n",
    "mass = torch.from_numpy(mass[simulation_index]).repeat(batch_size, 1)\n",
    "\n",
    "loc, vel, force, mass = [d.to(device) for d in [loc, vel, force, mass]]\n",
    "\n",
    "graph = Data(pos=loc, vel=vel, force=force, mass=mass)\n",
    "batch = torch.arange(0, batch_size)\n",
    "graph.batch = batch.repeat_interleave(n_nodes).long()\n",
    "graph.edge_index = knn_graph(loc, args.neighbours, graph.batch)\n",
    "\n",
    "graph = transform(graph)  # Add O3 attributes\n",
    "graph = graph.to(device)\n",
    "batch_prediction = model(graph).cpu().detach().numpy()\n",
    "output_dims = batch_prediction.shape[-1]\n",
    "pred_before_rotation = batch_prediction.copy()\n",
    "pred_before_rotation_reshaped = batch_prediction.reshape(batch_size, n_nodes, output_dims)\n",
    "\n"
   ],
   "metadata": {
    "collapsed": false,
    "ExecuteTime": {
     "end_time": "2024-03-22T13:25:58.714725Z",
     "start_time": "2024-03-22T13:25:58.207615Z"
    }
   },
   "id": "f937a1b76c8fef5",
   "execution_count": 52
  },
  {
   "cell_type": "code",
   "outputs": [],
   "source": [
    "# Generate a random rotation matrix\n",
    "rotation_matrix = torch.randn(3, 3).to(device)\n",
    "rotation_matrix, _ = torch.linalg.qr(rotation_matrix)\n",
    "rotation_matrix = rotation_matrix.to(dtype=loc.dtype)\n",
    "# Rotate the input\n",
    "loc_rotated = rotate_positions(loc.squeeze(), rotation_matrix).view(-1, dims)\n",
    "vel_rotated = rotate_positions(vel.squeeze(), rotation_matrix).view(-1, dims)\n",
    "force_rotated = rotate_positions(force.squeeze(), rotation_matrix).view(-1, dims)"
   ],
   "metadata": {
    "collapsed": false,
    "ExecuteTime": {
     "end_time": "2024-03-22T13:25:58.725997Z",
     "start_time": "2024-03-22T13:25:58.715788Z"
    }
   },
   "id": "783e0663e6ff7eed",
   "execution_count": 53
  },
  {
   "cell_type": "code",
   "outputs": [],
   "source": [
    "graph = Data(pos=loc_rotated, vel=vel_rotated, force=force_rotated, mass=mass)\n",
    "batch = torch.arange(0, batch_size)\n",
    "graph.batch = batch.repeat_interleave(n_nodes).long()\n",
    "graph.edge_index = knn_graph(loc_rotated, args.neighbours, graph.batch)\n",
    "\n",
    "graph = transform(graph)  # Add O3 attributes\n",
    "graph = graph.to(device)\n",
    "batch_prediction = model(graph).cpu().detach().numpy()\n",
    "output_dims = batch_prediction.shape[-1]\n",
    "pred_after_rotation = batch_prediction.copy()\n",
    "pred_after_rotation_reshaped = batch_prediction.reshape(batch_size, n_nodes, output_dims)\n"
   ],
   "metadata": {
    "collapsed": false,
    "ExecuteTime": {
     "end_time": "2024-03-22T13:25:59.253806Z",
     "start_time": "2024-03-22T13:25:58.729287Z"
    }
   },
   "id": "16f9c4d7ba536fa3",
   "execution_count": 54
  },
  {
   "cell_type": "code",
   "outputs": [],
   "source": [
    "\n",
    "# Rotate the prediction back\n",
    "pred_after_rotation_back_pos = rotate_positions(torch.from_numpy(pred_after_rotation[...,:dims]), rotation_matrix.T)\n",
    "pred_after_rotation_back_vel = rotate_positions(torch.from_numpy(pred_after_rotation[...,dims:]), rotation_matrix.T)\n",
    "\n",
    "# pred_after_rotation_back_pos = torch.from_numpy(pred_after_rotation[...,:dims])\n",
    "# pred_after_rotation_back_vel = torch.from_numpy(pred_after_rotation[...,dims:])\n",
    "# \n",
    "# # Check if the prediction before rotation is close to the rotated-back prediction after rotation\n",
    "# assert torch.allclose(\n",
    "#     pred_before_rotation,\n",
    "#     pred_after_rotation_back,\n",
    "#     atol=1e-3,\n",
    "# ), \"The model is not equivariant under rotation\"\n",
    "# \n",
    "# print(\"Equivariance test passed!\")\n"
   ],
   "metadata": {
    "collapsed": false,
    "ExecuteTime": {
     "end_time": "2024-03-22T13:31:20.397238Z",
     "start_time": "2024-03-22T13:31:20.383818Z"
    }
   },
   "id": "6d50a56c99272204",
   "execution_count": 61
  },
  {
   "cell_type": "code",
   "outputs": [
    {
     "data": {
      "text/plain": "tensor(5.3161e-05, dtype=torch.float64)"
     },
     "execution_count": 57,
     "metadata": {},
     "output_type": "execute_result"
    }
   ],
   "source": [
    "pred_after_rotation_back_pos.mean()"
   ],
   "metadata": {
    "collapsed": false,
    "ExecuteTime": {
     "end_time": "2024-03-22T13:26:44.312213Z",
     "start_time": "2024-03-22T13:26:44.297225Z"
    }
   },
   "id": "bb83d6fb34e460a8",
   "execution_count": 57
  },
  {
   "cell_type": "code",
   "outputs": [
    {
     "data": {
      "text/plain": "tensor(-2.2696e-05, dtype=torch.float64)"
     },
     "execution_count": 62,
     "metadata": {},
     "output_type": "execute_result"
    }
   ],
   "source": [
    "(pred_after_rotation_back_pos - pred_before_rotation[...,:dims]).mean()"
   ],
   "metadata": {
    "collapsed": false,
    "ExecuteTime": {
     "end_time": "2024-03-22T13:31:26.677897Z",
     "start_time": "2024-03-22T13:31:26.663191Z"
    }
   },
   "id": "9c63bd2205e2d219",
   "execution_count": 62
  },
  {
   "cell_type": "code",
   "outputs": [
    {
     "data": {
      "text/plain": "False"
     },
     "execution_count": 63,
     "metadata": {},
     "output_type": "execute_result"
    }
   ],
   "source": [
    "torch.allclose(\n",
    "    pred_after_rotation_back_pos,\n",
    "    torch.from_numpy(pred_before_rotation[...,:dims]),\n",
    ")"
   ],
   "metadata": {
    "collapsed": false,
    "ExecuteTime": {
     "end_time": "2024-03-22T13:31:29.187532Z",
     "start_time": "2024-03-22T13:31:29.180935Z"
    }
   },
   "id": "4b7731034d2b35c4",
   "execution_count": 63
  },
  {
   "cell_type": "code",
   "outputs": [],
   "source": [],
   "metadata": {
    "collapsed": false
   },
   "id": "fb133e0687477d77"
  },
  {
   "cell_type": "code",
   "outputs": [
    {
     "data": {
      "text/plain": "tensor(-0.3825, dtype=torch.float64)"
     },
     "execution_count": 65,
     "metadata": {},
     "output_type": "execute_result"
    }
   ],
   "source": [
    "loc.diff().mean()"
   ],
   "metadata": {
    "collapsed": false,
    "ExecuteTime": {
     "end_time": "2024-03-22T13:55:44.844117Z",
     "start_time": "2024-03-22T13:55:44.830919Z"
    }
   },
   "id": "92b82c6736a28dc0",
   "execution_count": 65
  },
  {
   "cell_type": "code",
   "outputs": [],
   "source": [],
   "metadata": {
    "collapsed": false
   },
   "id": "23ff88f34d6f27e"
  }
 ],
 "metadata": {
  "kernelspec": {
   "display_name": "Python 3",
   "language": "python",
   "name": "python3"
  },
  "language_info": {
   "codemirror_mode": {
    "name": "ipython",
    "version": 2
   },
   "file_extension": ".py",
   "mimetype": "text/x-python",
   "name": "python",
   "nbconvert_exporter": "python",
   "pygments_lexer": "ipython2",
   "version": "2.7.6"
  }
 },
 "nbformat": 4,
 "nbformat_minor": 5
}
